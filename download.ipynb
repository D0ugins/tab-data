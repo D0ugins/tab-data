{
 "cells": [
  {
   "cell_type": "code",
   "execution_count": 10,
   "metadata": {
    "ExecuteTime": {
     "end_time": "2023-12-05T13:07:27.384808300Z",
     "start_time": "2023-12-05T13:07:27.187401500Z"
    }
   },
   "outputs": [],
   "source": [
    "DOWNLOAD_FOLDER = \"./data/tabroom\"\n",
    "!mkdir -p {DOWNLOAD_FOLDER}/error\n",
    "first = 27000\n",
    "last = 28000"
   ]
  },
  {
   "cell_type": "code",
   "execution_count": 1,
   "metadata": {
    "ExecuteTime": {
     "end_time": "2023-12-04T19:13:15.080267700Z",
     "start_time": "2023-12-04T19:13:14.981338Z"
    }
   },
   "outputs": [],
   "source": [
    "from tqdm.notebook import tqdm\n",
    "import scipy as sc"
   ]
  },
  {
   "cell_type": "code",
   "execution_count": 2,
   "metadata": {
    "ExecuteTime": {
     "end_time": "2023-12-04T19:13:15.158121200Z",
     "start_time": "2023-12-04T19:13:15.082623400Z"
    }
   },
   "outputs": [],
   "source": [
    "import urllib.request\n",
    "import shutil\n",
    "def downloadTourn(id):\n",
    "  with urllib.request.urlopen(f\"https://tabroom.com/api/download_data?tourn_id={id}?\") as response, open(f\"{DOWNLOAD_FOLDER}/{id}.json\", 'wb') as f:\n",
    "    shutil.copyfileobj(response, f)"
   ]
  },
  {
   "cell_type": "code",
   "execution_count": 3,
   "metadata": {
    "ExecuteTime": {
     "end_time": "2023-12-04T19:13:15.161119500Z",
     "start_time": "2023-12-04T19:13:15.132125800Z"
    }
   },
   "outputs": [],
   "source": [
    "import os.path\n",
    "def notDownloaded(id):\n",
    "  return not os.path.isfile(f\"{DOWNLOAD_FOLDER}/{id}.json\")"
   ]
  },
  {
   "cell_type": "code",
   "execution_count": 6,
   "metadata": {
    "ExecuteTime": {
     "end_time": "2023-12-04T19:13:23.411986300Z",
     "start_time": "2023-12-04T19:13:23.405987100Z"
    }
   },
   "outputs": [],
   "source": [
    "# last = 25874\n",
    "\n",
    "downloadList = [id for id in range(last, first, -1)] # if notDownloaded(id)]"
   ]
  },
  {
   "cell_type": "code",
   "execution_count": 7,
   "metadata": {
    "ExecuteTime": {
     "end_time": "2023-12-04T19:24:23.313348500Z",
     "start_time": "2023-12-04T19:13:25.338986300Z"
    }
   },
   "outputs": [
    {
     "data": {
      "application/vnd.jupyter.widget-view+json": {
       "model_id": "7e465f3615d042afb484f99e0ccfeae7",
       "version_major": 2,
       "version_minor": 0
      },
      "text/plain": [
       "  0%|          | 0/500 [00:00<?, ?it/s]"
      ]
     },
     "metadata": {},
     "output_type": "display_data"
    }
   ],
   "source": [
    "\n",
    "from urllib.error import URLError\n",
    "\n",
    "for i in tqdm(downloadList):\n",
    "  try:\n",
    "    downloadTourn(i)\n",
    "  except TimeoutError:\n",
    "    print(f\"Request for {i} timed out\")\n",
    "  except URLError:\n",
    "    print(f\"Request for {i} timed out\")\n",
    "  # time.sleep(1)"
   ]
  },
  {
   "cell_type": "code",
   "execution_count": 12,
   "metadata": {
    "ExecuteTime": {
     "end_time": "2023-12-05T13:08:26.172195700Z",
     "start_time": "2023-12-05T13:08:14.857611Z"
    }
   },
   "outputs": [
    {
     "data": {
      "application/vnd.jupyter.widget-view+json": {
       "model_id": "9880c449d72b4efe8559d75706831c13",
       "version_major": 2,
       "version_minor": 0
      },
      "text/plain": [
       "  0%|          | 0/1001 [00:00<?, ?it/s]"
      ]
     },
     "metadata": {},
     "output_type": "display_data"
    }
   ],
   "source": [
    "import json\n",
    "\n",
    "for i in tqdm(range(first, last + 1)):\n",
    "  path = f'{DOWNLOAD_FOLDER}/{i}.json'\n",
    "  try:\n",
    "    with open(path) as f:\n",
    "      try:\n",
    "        tourn = json.load(f)\n",
    "        if 'error' in tourn: raise ValueError\n",
    "      except Exception:\n",
    "        shutil.move(path, f'{DOWNLOAD_FOLDER}/error/{i}.json')\n",
    "  except FileNotFoundError:\n",
    "    pass"
   ]
  },
  {
   "cell_type": "markdown",
   "metadata": {},
   "source": [
    "# tmp"
   ]
  },
  {
   "cell_type": "code",
   "execution_count": null,
   "metadata": {},
   "outputs": [],
   "source": [
    "import glob\n",
    "import re\n",
    "tournIds = sorted([int(re.search(r'/(\\d+)\\.json', path).group(1)) for path in glob.glob(f'{DOWNLOAD_FOLDER}/*.json')])"
   ]
  },
  {
   "cell_type": "code",
   "execution_count": 41,
   "metadata": {},
   "outputs": [
    {
     "name": "stdout",
     "output_type": "stream",
     "text": [
      "7636410\n",
      "6463770\n"
     ]
    }
   ],
   "source": [
    "def removeLocales(obj: dict):\n",
    "  if type(obj) is list:\n",
    "    for item in obj: removeLocales(item)\n",
    "  elif type(obj) is dict:\n",
    "    if 'locale' in obj: del obj['locale']\n",
    "    for value in obj.values(): removeLocales(value)\n",
    "\n",
    "with open('./data/tabroom/22381.json') as f:\n",
    "  data = json.load(f)\n",
    "  print(len(json.dumps(data)))\n",
    "  removeLocales(data)\n",
    "  print(len(json.dumps(data)))\n",
    "  with open('./data/example.json', 'w+') as f2:\n",
    "    json.dump(data, f2, indent=2)"
   ]
  },
  {
   "cell_type": "code",
   "execution_count": 37,
   "metadata": {},
   "outputs": [
    {
     "name": "stdout",
     "output_type": "stream",
     "text": [
      "<class 'str'>\n",
      "<class 'NoneType'>\n",
      "<class 'list'>\n",
      "<class 'str'>\n",
      "<class 'NoneType'>\n",
      "<class 'str'>\n",
      "<class 'str'>\n",
      "<class 'list'>\n",
      "<class 'NoneType'>\n",
      "<class 'str'>\n",
      "<class 'NoneType'>\n",
      "<class 'int'>\n",
      "<class 'list'>\n",
      "<class 'str'>\n",
      "<class 'str'>\n",
      "<class 'str'>\n",
      "<class 'str'>\n",
      "<class 'NoneType'>\n",
      "<class 'str'>\n",
      "<class 'str'>\n",
      "<class 'str'>\n",
      "<class 'str'>\n"
     ]
    }
   ],
   "source": [
    "for key in data:\n",
    "  print(type(data[key]))"
   ]
  },
  {
   "cell_type": "code",
   "execution_count": 29,
   "metadata": {},
   "outputs": [
    {
     "data": {
      "text/plain": [
       "False"
      ]
     },
     "execution_count": 29,
     "metadata": {},
     "output_type": "execute_result"
    }
   ],
   "source": []
  },
  {
   "cell_type": "code",
   "execution_count": 40,
   "metadata": {},
   "outputs": [],
   "source": [
    "from collections import Counter\n",
    "\n",
    "entries = {}\n",
    "judges = {}\n",
    "debates = []\n",
    "\n",
    "for round in policy['rounds']:\n",
    "  for section in round['sections']:\n",
    "    debate = {}\n",
    "    ballots = section['ballots']\n",
    "    if len(ballots) != 2: continue # TODO implement processing for rounds with something other than 2 ballots\n",
    "    for ballot in ballots:\n",
    "      if 'judge' in ballot and ballot['judge'] not in judges:\n",
    "        judges[ballot['judge']] = f\"{ballot['judge_first']} {ballot['judge_last']}\"\n",
    "      if ballot['entry'] not in entries:\n",
    "        entries[ballot['entry']] = {\n",
    "          'entry_name': ballot['entry_name'], \n",
    "          'entry_code': ballot['entry_code'], \n",
    "          'people': set() \n",
    "        }\n",
    "      match ballot['side']:\n",
    "        case 1: side = \"aff\"\n",
    "        case 2: side = \"neg\"\n",
    "        case _: side = None\n",
    "      debate[side] = { 'team': entries[ballot['entry']], 'points': {} }\n",
    "\n",
    "      if 'scores' in ballot:\n",
    "        for score in ballot['scores']:\n",
    "          match score:\n",
    "            case {'tag': 'point'}:\n",
    "              entries[ballot['entry']]['people'].add(score['speaker'])\n",
    "              debate[side]['points'][score['speaker']] = score['value']\n",
    "            case {'tag': 'winloss', 'value': 1}:\n",
    "              debate['winner'] = side\n",
    "    debates.append(debate)\n",
    "    "
   ]
  },
  {
   "cell_type": "code",
   "execution_count": 44,
   "metadata": {},
   "outputs": [],
   "source": [
    "def set_default(obj):\n",
    "    if isinstance(obj, set):\n",
    "        return list(obj)\n",
    "    raise TypeError\n",
    "\n",
    "with open('./data/tocDebates.json', 'w') as f:\n",
    "  f.write(json.dumps(debates, indent=2, default=set_default))"
   ]
  },
  {
   "cell_type": "code",
   "execution_count": null,
   "metadata": {},
   "outputs": [],
   "source": [
    "winCounts = Counter()\n",
    "for debate in debates:\n",
    "  if 'winner' not in debate: continue\n",
    "  winCounts[debate[debate['winner']]['team']['entry_code']] += 1\n",
    "winCounts"
   ]
  },
  {
   "cell_type": "code",
   "execution_count": 26,
   "metadata": {},
   "outputs": [
    {
     "data": {
      "text/plain": [
       "BinomTestResult(k=360, n=700, alternative='two-sided', proportion_estimate=0.5142857142857142, pvalue=0.47270122899464756)"
      ]
     },
     "execution_count": 26,
     "metadata": {},
     "output_type": "execute_result"
    }
   ],
   "source": [
    "winCounts = Counter(map(lambda d: d['winner'] if 'winner' in d else \"NONE\", debates))\n",
    "total = winCounts['NEG'] + winCounts['AFF']\n",
    "sc.stats.binomtest(360, total, p=0.5)\n",
    "# sc.stats.binomtest(total // 2, total, p=winCounts['NEG']/total))"
   ]
  },
  {
   "cell_type": "code",
   "execution_count": 42,
   "metadata": {},
   "outputs": [],
   "source": [
    "import base64\n",
    "import zlib\n",
    "from IPython.display import HTML\n",
    "\n",
    "def show(e: str):\n",
    "  # return base64.decode(e).decode('zlib')\n",
    "  return HTML(zlib.decompress(base64.b64decode(e)).decode('utf-8'))"
   ]
  },
  {
   "cell_type": "code",
   "execution_count": 43,
   "metadata": {},
   "outputs": [],
   "source": [
    "policy = dataF['categories'][3]['events'][0]"
   ]
  },
  {
   "cell_type": "code",
   "execution_count": null,
   "metadata": {},
   "outputs": [],
   "source": [
    "show(policy['rounds'][11]['sections'][0]['ballots'][0]['scores'][0]['content'])"
   ]
  },
  {
   "cell_type": "code",
   "execution_count": null,
   "metadata": {},
   "outputs": [],
   "source": []
  }
 ],
 "metadata": {
  "kernelspec": {
   "display_name": "Python 3.10.6 ('dc')",
   "language": "python",
   "name": "python3"
  },
  "language_info": {
   "codemirror_mode": {
    "name": "ipython",
    "version": 3
   },
   "file_extension": ".py",
   "mimetype": "text/x-python",
   "name": "python",
   "nbconvert_exporter": "python",
   "pygments_lexer": "ipython3",
   "version": "3.11.0 | packaged by conda-forge | (main, Oct 25 2022, 06:18:27) [GCC 10.4.0]"
  },
  "orig_nbformat": 4,
  "vscode": {
   "interpreter": {
    "hash": "eb720d3ab672a1702f6447f5398e32b41a77ddaebc8f8ac729bf75010de44003"
   }
  }
 },
 "nbformat": 4,
 "nbformat_minor": 2
}
