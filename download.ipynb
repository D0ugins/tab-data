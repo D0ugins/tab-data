{
 "cells": [
  {
   "cell_type": "code",
   "execution_count": 10,
   "metadata": {
    "ExecuteTime": {
     "end_time": "2023-12-05T13:07:27.384808300Z",
     "start_time": "2023-12-05T13:07:27.187401500Z"
    }
   },
   "outputs": [],
   "source": [
    "DOWNLOAD_FOLDER = \"./data/tabroom\"\n",
    "!mkdir -p {DOWNLOAD_FOLDER}/error\n",
    "first = 27000\n",
    "last = 28000"
   ]
  },
  {
   "cell_type": "code",
   "execution_count": 1,
   "metadata": {
    "ExecuteTime": {
     "end_time": "2023-12-04T19:13:15.080267700Z",
     "start_time": "2023-12-04T19:13:14.981338Z"
    }
   },
   "outputs": [],
   "source": [
    "from tqdm.notebook import tqdm\n",
    "import scipy as sc"
   ]
  },
  {
   "cell_type": "code",
   "execution_count": 2,
   "metadata": {
    "ExecuteTime": {
     "end_time": "2023-12-04T19:13:15.158121200Z",
     "start_time": "2023-12-04T19:13:15.082623400Z"
    }
   },
   "outputs": [],
   "source": [
    "import urllib.request\n",
    "import shutil\n",
    "def downloadTourn(id):\n",
    "  with urllib.request.urlopen(f\"https://tabroom.com/api/download_data?tourn_id={id}?\") as response, open(f\"{DOWNLOAD_FOLDER}/{id}.json\", 'wb') as f:\n",
    "    shutil.copyfileobj(response, f)"
   ]
  },
  {
   "cell_type": "code",
   "execution_count": 3,
   "metadata": {
    "ExecuteTime": {
     "end_time": "2023-12-04T19:13:15.161119500Z",
     "start_time": "2023-12-04T19:13:15.132125800Z"
    }
   },
   "outputs": [],
   "source": [
    "import os.path\n",
    "def notDownloaded(id):\n",
    "  return not os.path.isfile(f\"{DOWNLOAD_FOLDER}/{id}.json\")"
   ]
  },
  {
   "cell_type": "code",
   "execution_count": 6,
   "metadata": {
    "ExecuteTime": {
     "end_time": "2023-12-04T19:13:23.411986300Z",
     "start_time": "2023-12-04T19:13:23.405987100Z"
    }
   },
   "outputs": [],
   "source": [
    "# last = 25874\n",
    "\n",
    "downloadList = [id for id in range(last, first, -1)] # if notDownloaded(id)]"
   ]
  },
  {
   "cell_type": "code",
   "execution_count": 7,
   "metadata": {
    "ExecuteTime": {
     "end_time": "2023-12-04T19:24:23.313348500Z",
     "start_time": "2023-12-04T19:13:25.338986300Z"
    }
   },
   "outputs": [
    {
     "data": {
      "text/plain": "  0%|          | 0/500 [00:00<?, ?it/s]",
      "application/vnd.jupyter.widget-view+json": {
       "version_major": 2,
       "version_minor": 0,
       "model_id": "7e465f3615d042afb484f99e0ccfeae7"
      }
     },
     "metadata": {},
     "output_type": "display_data"
    }
   ],
   "source": [
    "\n",
    "from urllib.error import URLError\n",
    "\n",
    "for i in tqdm(downloadList):\n",
    "  try:\n",
    "    downloadTourn(i)\n",
    "  except TimeoutError:\n",
    "    print(f\"Request for {i} timed out\")\n",
    "  except URLError:\n",
    "    print(f\"Request for {i} timed out\")\n",
    "  # time.sleep(1)"
   ]
  },
  {
   "cell_type": "code",
   "execution_count": 12,
   "metadata": {
    "ExecuteTime": {
     "end_time": "2023-12-05T13:08:26.172195700Z",
     "start_time": "2023-12-05T13:08:14.857611Z"
    }
   },
   "outputs": [
    {
     "data": {
      "text/plain": "  0%|          | 0/1001 [00:00<?, ?it/s]",
      "application/vnd.jupyter.widget-view+json": {
       "version_major": 2,
       "version_minor": 0,
       "model_id": "9880c449d72b4efe8559d75706831c13"
      }
     },
     "metadata": {},
     "output_type": "display_data"
    }
   ],
   "source": [
    "import json\n",
    "\n",
    "for i in tqdm(range(first, last + 1)):\n",
    "  path = f'{DOWNLOAD_FOLDER}/{i}.json'\n",
    "  try:\n",
    "    with open(path) as f:\n",
    "      try:\n",
    "        tourn = json.load(f)\n",
    "        if 'error' in tourn: raise ValueError\n",
    "      except Exception:\n",
    "        shutil.move(path, f'{DOWNLOAD_FOLDER}/error/{i}.json')\n",
    "  except FileNotFoundError:\n",
    "    pass"
   ]
  },
  {
   "cell_type": "code",
   "execution_count": null,
   "metadata": {},
   "outputs": [],
   "source": [
    "import glob\n",
    "import re\n",
    "tournIds = sorted([int(re.search(r'/(\\d+)\\.json', path).group(1)) for path in glob.glob(f'{DOWNLOAD_FOLDER}/*.json')])"
   ]
  },
  {
   "cell_type": "code",
   "execution_count": 41,
   "metadata": {},
   "outputs": [
    {
     "name": "stdout",
     "output_type": "stream",
     "text": [
      "7636410\n",
      "6463770\n"
     ]
    }
   ],
   "source": [
    "def removeLocales(obj: dict):\n",
    "  if type(obj) is list:\n",
    "    for item in obj: removeLocales(item)\n",
    "  elif type(obj) is dict:\n",
    "    if 'locale' in obj: del obj['locale']\n",
    "    for value in obj.values(): removeLocales(value)\n",
    "\n",
    "with open('./data/tabroom/22381.json') as f:\n",
    "  data = json.load(f)\n",
    "  print(len(json.dumps(data)))\n",
    "  removeLocales(data)\n",
    "  print(len(json.dumps(data)))\n",
    "  with open('./data/example.json', 'w+') as f2:\n",
    "    json.dump(data, f2, indent=2)"
   ]
  },
  {
   "cell_type": "code",
   "execution_count": 37,
   "metadata": {},
   "outputs": [
    {
     "name": "stdout",
     "output_type": "stream",
     "text": [
      "<class 'str'>\n",
      "<class 'NoneType'>\n",
      "<class 'list'>\n",
      "<class 'str'>\n",
      "<class 'NoneType'>\n",
      "<class 'str'>\n",
      "<class 'str'>\n",
      "<class 'list'>\n",
      "<class 'NoneType'>\n",
      "<class 'str'>\n",
      "<class 'NoneType'>\n",
      "<class 'int'>\n",
      "<class 'list'>\n",
      "<class 'str'>\n",
      "<class 'str'>\n",
      "<class 'str'>\n",
      "<class 'str'>\n",
      "<class 'NoneType'>\n",
      "<class 'str'>\n",
      "<class 'str'>\n",
      "<class 'str'>\n",
      "<class 'str'>\n"
     ]
    }
   ],
   "source": [
    "for key in data:\n",
    "  print(type(data[key]))"
   ]
  },
  {
   "cell_type": "code",
   "execution_count": 29,
   "metadata": {},
   "outputs": [
    {
     "data": {
      "text/plain": [
       "False"
      ]
     },
     "execution_count": 29,
     "metadata": {},
     "output_type": "execute_result"
    }
   ],
   "source": []
  },
  {
   "cell_type": "code",
   "execution_count": null,
   "metadata": {},
   "outputs": [],
   "source": [
    "import json\n",
    "with open(\"toc.json\") as f:\n",
    "  data = json.load(f)\n",
    "data"
   ]
  },
  {
   "cell_type": "code",
   "execution_count": null,
   "metadata": {},
   "outputs": [],
   "source": [
    "import json\n",
    "with open(\"tocF.json\") as f:\n",
    "  dataF = json.load(f)\n",
    "dataF"
   ]
  },
  {
   "cell_type": "code",
   "execution_count": 5,
   "metadata": {},
   "outputs": [],
   "source": [
    "policy = data['categories'][3]['events'][0]"
   ]
  },
  {
   "cell_type": "code",
   "execution_count": 40,
   "metadata": {},
   "outputs": [],
   "source": [
    "from collections import Counter\n",
    "\n",
    "entries = {}\n",
    "judges = {}\n",
    "debates = []\n",
    "\n",
    "for round in policy['rounds']:\n",
    "  for section in round['sections']:\n",
    "    debate = {}\n",
    "    ballots = section['ballots']\n",
    "    if len(ballots) != 2: continue # TODO implement processing for rounds with something other than 2 ballots\n",
    "    for ballot in ballots:\n",
    "      if 'judge' in ballot and ballot['judge'] not in judges:\n",
    "        judges[ballot['judge']] = f\"{ballot['judge_first']} {ballot['judge_last']}\"\n",
    "      if ballot['entry'] not in entries:\n",
    "        entries[ballot['entry']] = {\n",
    "          'entry_name': ballot['entry_name'], \n",
    "          'entry_code': ballot['entry_code'], \n",
    "          'people': set() \n",
    "        }\n",
    "      match ballot['side']:\n",
    "        case 1: side = \"aff\"\n",
    "        case 2: side = \"neg\"\n",
    "        case _: side = None\n",
    "      debate[side] = { 'team': entries[ballot['entry']], 'points': {} }\n",
    "\n",
    "      if 'scores' in ballot:\n",
    "        for score in ballot['scores']:\n",
    "          match score:\n",
    "            case {'tag': 'point'}:\n",
    "              entries[ballot['entry']]['people'].add(score['speaker'])\n",
    "              debate[side]['points'][score['speaker']] = score['value']\n",
    "            case {'tag': 'winloss', 'value': 1}:\n",
    "              debate['winner'] = side\n",
    "    debates.append(debate)\n",
    "    "
   ]
  },
  {
   "cell_type": "code",
   "execution_count": 44,
   "metadata": {},
   "outputs": [],
   "source": [
    "def set_default(obj):\n",
    "    if isinstance(obj, set):\n",
    "        return list(obj)\n",
    "    raise TypeError\n",
    "\n",
    "with open('./data/tocDebates.json', 'w') as f:\n",
    "  f.write(json.dumps(debates, indent=2, default=set_default))"
   ]
  },
  {
   "cell_type": "code",
   "execution_count": null,
   "metadata": {},
   "outputs": [],
   "source": [
    "winCounts = Counter()\n",
    "for debate in debates:\n",
    "  if 'winner' not in debate: continue\n",
    "  winCounts[debate[debate['winner']]['team']['entry_code']] += 1\n",
    "winCounts"
   ]
  },
  {
   "cell_type": "code",
   "execution_count": 26,
   "metadata": {},
   "outputs": [
    {
     "data": {
      "text/plain": [
       "BinomTestResult(k=360, n=700, alternative='two-sided', proportion_estimate=0.5142857142857142, pvalue=0.47270122899464756)"
      ]
     },
     "execution_count": 26,
     "metadata": {},
     "output_type": "execute_result"
    }
   ],
   "source": [
    "winCounts = Counter(map(lambda d: d['winner'] if 'winner' in d else \"NONE\", debates))\n",
    "total = winCounts['NEG'] + winCounts['AFF']\n",
    "sc.stats.binomtest(360, total, p=0.5)\n",
    "# sc.stats.binomtest(total // 2, total, p=winCounts['NEG']/total))"
   ]
  },
  {
   "cell_type": "code",
   "execution_count": 42,
   "metadata": {},
   "outputs": [],
   "source": [
    "import base64\n",
    "import zlib\n",
    "from IPython.display import HTML\n",
    "\n",
    "def show(e: str):\n",
    "  # return base64.decode(e).decode('zlib')\n",
    "  return HTML(zlib.decompress(base64.b64decode(e)).decode('utf-8'))"
   ]
  },
  {
   "cell_type": "code",
   "execution_count": 43,
   "metadata": {},
   "outputs": [],
   "source": [
    "policy = dataF['categories'][3]['events'][0]"
   ]
  },
  {
   "cell_type": "code",
   "execution_count": 44,
   "metadata": {},
   "outputs": [
    {
     "data": {
      "text/html": [
       "<p>First I want to say this was a fantastic debate, and it was a pleasure to judge the finals of the TOC! Both teams should be proud of their accomplishments and making this far in their careers! Congrats to both teams coaches for coaching your students well! They were are amazing and talented kids across the board.</p>\r\n",
       "<p>Ultimately, I voted AFF.</p>\r\n",
       "<p>The AFF wins their method is good for breaking down the antiblack and anthropocentric violence that occurs in debate and help promote black mobilization outweighing any risk of the neg's fairness impacts and switch side debate/tva solvency claims. The debate comes down to impacts and ends up being an impact turn debate.</p>\r\n",
       "<p>So there are two impacts that really push me towards voting neg. The first is the purity DA: I do not think this is answered well by the neg, at best I get is that switch side debate solves this and you do not have to challenge the state, but I do not think that is sufficiently answering why your model is not punishing black debaters for engaging in the rules that white debaters have set up. I think the 1AR and 2AR line this argument up very well to impact turning the fairness claim that fairness is good for white debates and will always punish black debaters.</p>\r\n",
       "<p>The second argument is the Hermeneutics DA: the 1AC Lee card is very good and really does impact how statis points, equity and fairness are just smokescreens to continue to silence black debaters and promote racialized violence. I end up concluding there is a lack of external reason to the game of debate and real reason why ssd is necessary to solve for this would resolve this DA. I think this really mitigates really any offense the neg will try to claim as external in debate. </p>\r\n",
       "<p>In regards with the TVA, there is a framing issue that if the TVA cannot solve all of the AFF. I conclude the TVA does not since it imposes the impacts in the hermeneutics da and the purity da at the end which means the impacts are inevitable. The 2NC Kotze ev is alright, but it does not say how it interacts with the AFF's offense at the end. I think the TVA really does not explain to me the interaction between the two DAs that are extended at the end of the day. The neg's warrant is that they can access this, but given a uq issues from the aff that black debaters already have less access to space, I do not think the TVA solves and just links to the purity DA at the end of the day. </p>\r\n",
       "<p>The presumption stuff, I think the neg could have won on this if they spent more time on it, but I think the AFF has an end goal and the ballot does produce change in the way black critical scholarship is deployed in debate and allows for black mobilization. A conceded framing issue that the aff only needs to solve for a little bit at the end of the means the neg's presumption argument is pretty mitigated at the end. I think the neg really needed to sit on an impact at the end and really go more on the offense since the 2NR sounded pretty defensive with just switch side debate, but not really addressing the end impact of antiblack violence in debate and communication.</p>\r\n",
       "<p>Again, it was pleasure to judge this debate, and good luck to both teams in their future!!</p>"
      ],
      "text/plain": [
       "<IPython.core.display.HTML object>"
      ]
     },
     "execution_count": 44,
     "metadata": {},
     "output_type": "execute_result"
    }
   ],
   "source": [
    "show(policy['rounds'][11]['sections'][0]['ballots'][0]['scores'][0]['content'])"
   ]
  },
  {
   "cell_type": "code",
   "execution_count": null,
   "metadata": {},
   "outputs": [],
   "source": []
  }
 ],
 "metadata": {
  "kernelspec": {
   "display_name": "Python 3.10.6 ('dc')",
   "language": "python",
   "name": "python3"
  },
  "language_info": {
   "codemirror_mode": {
    "name": "ipython",
    "version": 3
   },
   "file_extension": ".py",
   "mimetype": "text/x-python",
   "name": "python",
   "nbconvert_exporter": "python",
   "pygments_lexer": "ipython3",
   "version": "3.11.0 | packaged by conda-forge | (main, Oct 25 2022, 06:18:27) [GCC 10.4.0]"
  },
  "orig_nbformat": 4,
  "vscode": {
   "interpreter": {
    "hash": "eb720d3ab672a1702f6447f5398e32b41a77ddaebc8f8ac729bf75010de44003"
   }
  }
 },
 "nbformat": 4,
 "nbformat_minor": 2
}
