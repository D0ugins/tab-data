{
 "cells": [
  {
   "cell_type": "markdown",
   "source": [
    "# Database Setup"
   ],
   "metadata": {
    "collapsed": false
   }
  },
  {
   "cell_type": "code",
   "execution_count": 5,
   "outputs": [],
   "source": [
    "from datetime import datetime\n",
    "from tabDatabase import *\n",
    "\n",
    "TABDATA_PATH = './data/tabroom'\n",
    "metadata.create_all(tabEngine)"
   ],
   "metadata": {
    "collapsed": false
   }
  },
  {
   "cell_type": "markdown",
   "source": [
    "# Load"
   ],
   "metadata": {
    "collapsed": false
   }
  },
  {
   "cell_type": "code",
   "execution_count": 8,
   "outputs": [],
   "source": [
    "import glob\n",
    "import re\n",
    "import orjson\n",
    "from tqdm.notebook import tqdm"
   ],
   "metadata": {
    "collapsed": false
   }
  },
  {
   "cell_type": "code",
   "execution_count": 9,
   "outputs": [],
   "source": [
    "def toDate(d: str):\n",
    "    try: return datetime.strptime(d, '%Y-%m-%dT%H:%M:%S')\n",
    "    except ValueError:\n",
    "        try: return datetime.strptime(d, '%Y-%m-%d %H:%M:%S')\n",
    "        except ValueError: return datetime.utcfromtimestamp(0)"
   ],
   "metadata": {
    "collapsed": false
   }
  },
  {
   "cell_type": "code",
   "execution_count": 30,
   "outputs": [],
   "source": [
    "from typing import Callable\n",
    "from sqlalchemy.dialects.sqlite import insert\n",
    "\n",
    "ctx = {'conn': tabEngine.connect()}\n",
    "def loadSimple(obj, obj_id: int|None, table: Table, fields: set[str], conversions: dict[str, Callable] = None, extra=None) -> int:\n",
    "    global ctx\n",
    "    if extra is None: extra = dict()\n",
    "    if conversions is None: conversions = dict()\n",
    "    return ctx['conn'].execute(insert(table).values(\n",
    "        id=obj_id,\n",
    "        **{k: obj[k] if (k in obj) else None for k in fields},\n",
    "        **{k: (convertor(obj[k]) if (k in obj and obj[k]) else None) for k, convertor in conversions.items()},\n",
    "        **extra\n",
    "    ).on_conflict_do_update(set_=table.c)).lastrowid"
   ],
   "metadata": {
    "collapsed": false
   }
  },
  {
   "cell_type": "code",
   "execution_count": 11,
   "outputs": [],
   "source": [
    "def processResult(result, ids: dict[str, int]):\n",
    "    result_id = loadSimple(\n",
    "        obj=result, obj_id=None, table=result_table,\n",
    "        fields={'rank', 'place', 'entry', 'student', 'school', 'round'},\n",
    "        conversions={'percentile': float},\n",
    "        extra={'result_set': ids['result_set']}\n",
    "    )\n",
    "\n",
    "    for result_value in result.get('values', []):\n",
    "        loadSimple(\n",
    "            obj=result_value, obj_id=None, table=result_value_table,\n",
    "            fields={'priority', 'protocol', 'value'},\n",
    "            conversions={'result_key': int},\n",
    "            extra={'result': result_id}\n",
    "        )"
   ],
   "metadata": {
    "collapsed": false
   }
  },
  {
   "cell_type": "code",
   "execution_count": 12,
   "outputs": [],
   "source": [
    "def processResultSet(result_set, ids: dict[str, int]):\n",
    "    result_set_id = loadSimple(\n",
    "        obj=result_set, obj_id=None, table=result_set_table,\n",
    "        fields={'label', 'bracket', 'coach'},\n",
    "        conversions={'generated': toDate},\n",
    "        extra={'event': ids['event']}\n",
    "    )\n",
    "\n",
    "    for result_key in result_set.get('result_keys', []):\n",
    "        if not result_key['id']: continue\n",
    "        loadSimple(\n",
    "            obj=result_key, obj_id=int(result_key['id']), table=result_key_table,\n",
    "            fields={'tag', 'description', 'no_sort', 'sort_desc'},\n",
    "            extra={'result_set': result_set_id}\n",
    "        )\n",
    "\n",
    "    if 'results' not in result_set: return\n",
    "    for result in result_set['results']:\n",
    "        processResult(result, ids | {'result_set': result_set_id})\n"
   ],
   "metadata": {
    "collapsed": false
   }
  },
  {
   "cell_type": "code",
   "execution_count": 13,
   "outputs": [],
   "source": [
    "def processScore(score, ids: dict[str, int]):\n",
    "    conn = ctx['conn']\n",
    "    if 'speaker' in score:\n",
    "        student = conn.execute(student_table.select().where(student_table.c.id == score['speaker'])).first()\n",
    "        if not student:\n",
    "            conn.execute(student_table.insert().values(id=score['speaker']))\n",
    "\n",
    "        if ids['entry']:\n",
    "            entry_student = conn.execute(entry_student_table.select().where(\n",
    "                (entry_student_table.c.student == score['speaker']) &\n",
    "                (entry_student_table.c.entry == ids['entry'])\n",
    "            )).first() if student else None\n",
    "\n",
    "            if not entry_student:\n",
    "                conn.execute(entry_student_table.insert().values(\n",
    "                    entry=ids['entry'], student=score['speaker']\n",
    "                ))\n",
    "    loadSimple(\n",
    "        obj=score, obj_id=int(score['id']), table=score_table,\n",
    "        fields={'tag', 'value', 'speech', 'speaker'},\n",
    "        extra={'ballot': ids['ballot']}\n",
    "    )"
   ],
   "metadata": {
    "collapsed": false
   }
  },
  {
   "cell_type": "code",
   "execution_count": 14,
   "outputs": [],
   "source": [
    "def processBallot(ballot, ids: dict[str, int]):\n",
    "    conn = ctx['conn']\n",
    "    if 'judge' in ballot:\n",
    "        judge = conn.execute(judge_table.select().where(judge_table.c.id == ballot['judge'])).first()\n",
    "        if not judge:\n",
    "            judge_info = {\n",
    "                'id': ballot['judge'],\n",
    "                'code': ballot['judge_code'] if 'judge_code' in ballot else None,\n",
    "                'first': ballot['judge_first'] if 'judge_first' in ballot else None,\n",
    "                'last': ballot['judge_last'] if 'judge_last' in ballot else None\n",
    "            }\n",
    "            conn.execute(judge_table.insert().values(**judge_info, category=ids['category']))\n",
    "    if 'entry' in ballot:\n",
    "        entry = conn.execute(entry_table.select().where(entry_table.c.id == ballot['entry'])).first()\n",
    "        if not entry:\n",
    "            entry_info = {\n",
    "                'id': ballot['entry'],\n",
    "                'code': ballot['entry_code'] if 'entry_code' in ballot else None,\n",
    "                'name': ballot['entry_name'] if 'entry_name' in ballot else None,\n",
    "            }\n",
    "            conn.execute(entry_table.insert().values(**entry_info, event=ids['event']))\n",
    "\n",
    "    ballot_id = loadSimple(\n",
    "        obj=ballot, obj_id=int(ballot['id']), table=ballot_table,\n",
    "        fields={'side', 'speakerorder', 'chair', 'bye', 'forfeit'},\n",
    "        conversions={'judge_started': toDate} | {k: int for k in {'entered_by', 'started_by', 'audited_by', 'panel', 'judge', 'entry'}},\n",
    "        extra={'section': ids['section']}\n",
    "    )\n",
    "\n",
    "    if 'scores' not in ballot: return\n",
    "    new_ids = {'ballot': ballot_id, 'entry': ballot['entry'] if 'entry' in ballot else None}\n",
    "    for score in ballot['scores']:\n",
    "        processScore(score, ids | new_ids)"
   ],
   "metadata": {
    "collapsed": false
   }
  },
  {
   "cell_type": "code",
   "execution_count": 15,
   "outputs": [],
   "source": [
    "def processSection(section, ids: dict[str, int]):\n",
    "    section_id = loadSimple(\n",
    "        obj=section, obj_id=int(section['id']), table=section_table,\n",
    "        fields={'room', 'letter', 'bye', 'flight'},\n",
    "        extra={'round': ids['round']}\n",
    "    )\n",
    "    if 'ballots' not in section: return\n",
    "    for ballot in section['ballots']:\n",
    "        processBallot(ballot, ids | {'section': section_id})"
   ],
   "metadata": {
    "collapsed": false
   }
  },
  {
   "cell_type": "code",
   "execution_count": 16,
   "outputs": [],
   "source": [
    "def processRound(round, ids: dict[str, int]):\n",
    "    round_id = loadSimple(\n",
    "        obj=round, obj_id=int(round['id']), table=round_table,\n",
    "        fields={'type', 'protocol_name', 'label', 'flights', 'name'},\n",
    "        conversions={'start_time': toDate, 'runoff': int},\n",
    "        extra={'event': ids['event']}\n",
    "    )\n",
    "    if 'sections' not in round: return\n",
    "    for section in round['sections']:\n",
    "        processSection(section, ids | {'round': round_id})\n"
   ],
   "metadata": {
    "collapsed": false
   }
  },
  {
   "cell_type": "code",
   "execution_count": 17,
   "outputs": [],
   "source": [
    "def processEvent(event, ids: dict[str, int]):\n",
    "    event_id = loadSimple(\n",
    "        obj=event, obj_id=int(event['id']), table=event_table,\n",
    "        fields={'name', 'abbr', 'type'},\n",
    "        conversions={'fee': float},\n",
    "        extra={'category': ids['category']}\n",
    "    )\n",
    "    for round in event.get('rounds', []):\n",
    "            processRound(round, ids | {'event': event_id})\n",
    "    for result_set in event.get('result_sets', []):\n",
    "            processResultSet(result_set, ids | {'event': event_id})\n"
   ],
   "metadata": {
    "collapsed": false
   }
  },
  {
   "cell_type": "code",
   "execution_count": 18,
   "outputs": [],
   "source": [
    "def processCategory(category, ids: dict[str, int]):\n",
    "    category_id = loadSimple(\n",
    "        obj=category, obj_id=int(category['id']), table=category_table,\n",
    "        fields={'name', 'abbr'},\n",
    "        extra={'tournament': ids['tournament']}\n",
    "    )\n",
    "    if 'events' not in category: return\n",
    "    for event in category['events']:\n",
    "        processEvent(event, ids | {'category': category_id})"
   ],
   "metadata": {
    "collapsed": false
   }
  },
  {
   "cell_type": "code",
   "execution_count": 19,
   "outputs": [],
   "source": [
    "def processTournament(i: int):\n",
    "    with open(f'{TABDATA_PATH}/{i}.json') as f:\n",
    "        tournament = orjson.loads(f.read())\n",
    "    tournament_id = loadSimple(\n",
    "        obj=tournament, obj_id=i, table=tournament_table,\n",
    "        fields={'name', 'webname', 'country', 'state', 'city', 'timezone'},\n",
    "        conversions={'start': toDate, 'end': toDate}\n",
    "    )\n",
    "    if 'categories' not in tournament: return\n",
    "    for category in tournament['categories']:\n",
    "        processCategory(category, {'tournament': tournament_id})"
   ],
   "metadata": {
    "collapsed": false
   }
  },
  {
   "cell_type": "code",
   "execution_count": 20,
   "outputs": [],
   "source": [
    "def startTournament(i: int):\n",
    "    global ctx\n",
    "    try:\n",
    "        with tabEngine.begin() as conn:\n",
    "            ctx['conn'] = conn\n",
    "            processTournament(i)\n",
    "    except KeyboardInterrupt:\n",
    "        raise KeyboardInterrupt\n",
    "    # except Exception as e:\n",
    "    #     print(f'Failed: {i}')\n",
    "        # raise e"
   ],
   "metadata": {
    "collapsed": false
   }
  },
  {
   "cell_type": "code",
   "execution_count": 23,
   "outputs": [],
   "source": [
    "tournamentIds = sorted([int(re.search(r'/(\\d+)\\.json', path).group(1)) for path in glob.glob(f'{TABDATA_PATH}/*.json')])"
   ],
   "metadata": {
    "collapsed": false
   }
  },
  {
   "cell_type": "code",
   "execution_count": 31,
   "outputs": [
    {
     "data": {
      "text/plain": "  0%|          | 0/26627 [00:00<?, ?it/s]",
      "application/vnd.jupyter.widget-view+json": {
       "version_major": 2,
       "version_minor": 0,
       "model_id": "54d3ee9f5ae6409dbca0dcb546e7811b"
      }
     },
     "metadata": {},
     "output_type": "display_data"
    },
    {
     "ename": "KeyboardInterrupt",
     "evalue": "",
     "output_type": "error",
     "traceback": [
      "\u001B[0;31m---------------------------------------------------------------------------\u001B[0m",
      "\u001B[0;31mKeyboardInterrupt\u001B[0m                         Traceback (most recent call last)",
      "Cell \u001B[0;32mIn[20], line 6\u001B[0m, in \u001B[0;36mstartTournament\u001B[0;34m(i)\u001B[0m\n\u001B[1;32m      5\u001B[0m         ctx[\u001B[38;5;124m'\u001B[39m\u001B[38;5;124mconn\u001B[39m\u001B[38;5;124m'\u001B[39m] \u001B[38;5;241m=\u001B[39m conn\n\u001B[0;32m----> 6\u001B[0m         \u001B[43mprocessTournament\u001B[49m\u001B[43m(\u001B[49m\u001B[43mi\u001B[49m\u001B[43m)\u001B[49m\n\u001B[1;32m      7\u001B[0m \u001B[38;5;28;01mexcept\u001B[39;00m \u001B[38;5;167;01mKeyboardInterrupt\u001B[39;00m:\n",
      "Cell \u001B[0;32mIn[19], line 11\u001B[0m, in \u001B[0;36mprocessTournament\u001B[0;34m(i)\u001B[0m\n\u001B[1;32m     10\u001B[0m \u001B[38;5;28;01mfor\u001B[39;00m category \u001B[38;5;129;01min\u001B[39;00m tournament[\u001B[38;5;124m'\u001B[39m\u001B[38;5;124mcategories\u001B[39m\u001B[38;5;124m'\u001B[39m]:\n\u001B[0;32m---> 11\u001B[0m     \u001B[43mprocessCategory\u001B[49m\u001B[43m(\u001B[49m\u001B[43mcategory\u001B[49m\u001B[43m,\u001B[49m\u001B[43m \u001B[49m\u001B[43m{\u001B[49m\u001B[38;5;124;43m'\u001B[39;49m\u001B[38;5;124;43mtournament\u001B[39;49m\u001B[38;5;124;43m'\u001B[39;49m\u001B[43m:\u001B[49m\u001B[43m \u001B[49m\u001B[43mtournament_id\u001B[49m\u001B[43m}\u001B[49m\u001B[43m)\u001B[49m\n",
      "Cell \u001B[0;32mIn[18], line 9\u001B[0m, in \u001B[0;36mprocessCategory\u001B[0;34m(category, ids)\u001B[0m\n\u001B[1;32m      8\u001B[0m \u001B[38;5;28;01mfor\u001B[39;00m event \u001B[38;5;129;01min\u001B[39;00m category[\u001B[38;5;124m'\u001B[39m\u001B[38;5;124mevents\u001B[39m\u001B[38;5;124m'\u001B[39m]:\n\u001B[0;32m----> 9\u001B[0m     \u001B[43mprocessEvent\u001B[49m\u001B[43m(\u001B[49m\u001B[43mevent\u001B[49m\u001B[43m,\u001B[49m\u001B[43m \u001B[49m\u001B[43mids\u001B[49m\u001B[43m \u001B[49m\u001B[38;5;241;43m|\u001B[39;49m\u001B[43m \u001B[49m\u001B[43m{\u001B[49m\u001B[38;5;124;43m'\u001B[39;49m\u001B[38;5;124;43mcategory\u001B[39;49m\u001B[38;5;124;43m'\u001B[39;49m\u001B[43m:\u001B[49m\u001B[43m \u001B[49m\u001B[43mcategory_id\u001B[49m\u001B[43m}\u001B[49m\u001B[43m)\u001B[49m\n",
      "Cell \u001B[0;32mIn[17], line 9\u001B[0m, in \u001B[0;36mprocessEvent\u001B[0;34m(event, ids)\u001B[0m\n\u001B[1;32m      8\u001B[0m \u001B[38;5;28;01mfor\u001B[39;00m \u001B[38;5;28mround\u001B[39m \u001B[38;5;129;01min\u001B[39;00m event\u001B[38;5;241m.\u001B[39mget(\u001B[38;5;124m'\u001B[39m\u001B[38;5;124mrounds\u001B[39m\u001B[38;5;124m'\u001B[39m, []):\n\u001B[0;32m----> 9\u001B[0m         \u001B[43mprocessRound\u001B[49m\u001B[43m(\u001B[49m\u001B[38;5;28;43mround\u001B[39;49m\u001B[43m,\u001B[49m\u001B[43m \u001B[49m\u001B[43mids\u001B[49m\u001B[43m \u001B[49m\u001B[38;5;241;43m|\u001B[39;49m\u001B[43m \u001B[49m\u001B[43m{\u001B[49m\u001B[38;5;124;43m'\u001B[39;49m\u001B[38;5;124;43mevent\u001B[39;49m\u001B[38;5;124;43m'\u001B[39;49m\u001B[43m:\u001B[49m\u001B[43m \u001B[49m\u001B[43mevent_id\u001B[49m\u001B[43m}\u001B[49m\u001B[43m)\u001B[49m\n\u001B[1;32m     10\u001B[0m \u001B[38;5;28;01mfor\u001B[39;00m result_set \u001B[38;5;129;01min\u001B[39;00m event\u001B[38;5;241m.\u001B[39mget(\u001B[38;5;124m'\u001B[39m\u001B[38;5;124mresult_sets\u001B[39m\u001B[38;5;124m'\u001B[39m, []):\n",
      "Cell \u001B[0;32mIn[16], line 10\u001B[0m, in \u001B[0;36mprocessRound\u001B[0;34m(round, ids)\u001B[0m\n\u001B[1;32m      9\u001B[0m \u001B[38;5;28;01mfor\u001B[39;00m section \u001B[38;5;129;01min\u001B[39;00m \u001B[38;5;28mround\u001B[39m[\u001B[38;5;124m'\u001B[39m\u001B[38;5;124msections\u001B[39m\u001B[38;5;124m'\u001B[39m]:\n\u001B[0;32m---> 10\u001B[0m     \u001B[43mprocessSection\u001B[49m\u001B[43m(\u001B[49m\u001B[43msection\u001B[49m\u001B[43m,\u001B[49m\u001B[43m \u001B[49m\u001B[43mids\u001B[49m\u001B[43m \u001B[49m\u001B[38;5;241;43m|\u001B[39;49m\u001B[43m \u001B[49m\u001B[43m{\u001B[49m\u001B[38;5;124;43m'\u001B[39;49m\u001B[38;5;124;43mround\u001B[39;49m\u001B[38;5;124;43m'\u001B[39;49m\u001B[43m:\u001B[49m\u001B[43m \u001B[49m\u001B[43mround_id\u001B[49m\u001B[43m}\u001B[49m\u001B[43m)\u001B[49m\n",
      "Cell \u001B[0;32mIn[15], line 9\u001B[0m, in \u001B[0;36mprocessSection\u001B[0;34m(section, ids)\u001B[0m\n\u001B[1;32m      8\u001B[0m \u001B[38;5;28;01mfor\u001B[39;00m ballot \u001B[38;5;129;01min\u001B[39;00m section[\u001B[38;5;124m'\u001B[39m\u001B[38;5;124mballots\u001B[39m\u001B[38;5;124m'\u001B[39m]:\n\u001B[0;32m----> 9\u001B[0m     \u001B[43mprocessBallot\u001B[49m\u001B[43m(\u001B[49m\u001B[43mballot\u001B[49m\u001B[43m,\u001B[49m\u001B[43m \u001B[49m\u001B[43mids\u001B[49m\u001B[43m \u001B[49m\u001B[38;5;241;43m|\u001B[39;49m\u001B[43m \u001B[49m\u001B[43m{\u001B[49m\u001B[38;5;124;43m'\u001B[39;49m\u001B[38;5;124;43msection\u001B[39;49m\u001B[38;5;124;43m'\u001B[39;49m\u001B[43m:\u001B[49m\u001B[43m \u001B[49m\u001B[43msection_id\u001B[49m\u001B[43m}\u001B[49m\u001B[43m)\u001B[49m\n",
      "Cell \u001B[0;32mIn[14], line 23\u001B[0m, in \u001B[0;36mprocessBallot\u001B[0;34m(ballot, ids)\u001B[0m\n\u001B[1;32m     21\u001B[0m         conn\u001B[38;5;241m.\u001B[39mexecute(entry_table\u001B[38;5;241m.\u001B[39minsert()\u001B[38;5;241m.\u001B[39mvalues(\u001B[38;5;241m*\u001B[39m\u001B[38;5;241m*\u001B[39mentry_info, event\u001B[38;5;241m=\u001B[39mids[\u001B[38;5;124m'\u001B[39m\u001B[38;5;124mevent\u001B[39m\u001B[38;5;124m'\u001B[39m]))\n\u001B[0;32m---> 23\u001B[0m ballot_id \u001B[38;5;241m=\u001B[39m \u001B[43mloadSimple\u001B[49m\u001B[43m(\u001B[49m\n\u001B[1;32m     24\u001B[0m \u001B[43m    \u001B[49m\u001B[43mobj\u001B[49m\u001B[38;5;241;43m=\u001B[39;49m\u001B[43mballot\u001B[49m\u001B[43m,\u001B[49m\u001B[43m \u001B[49m\u001B[43mobj_id\u001B[49m\u001B[38;5;241;43m=\u001B[39;49m\u001B[38;5;28;43mint\u001B[39;49m\u001B[43m(\u001B[49m\u001B[43mballot\u001B[49m\u001B[43m[\u001B[49m\u001B[38;5;124;43m'\u001B[39;49m\u001B[38;5;124;43mid\u001B[39;49m\u001B[38;5;124;43m'\u001B[39;49m\u001B[43m]\u001B[49m\u001B[43m)\u001B[49m\u001B[43m,\u001B[49m\u001B[43m \u001B[49m\u001B[43mtable\u001B[49m\u001B[38;5;241;43m=\u001B[39;49m\u001B[43mballot_table\u001B[49m\u001B[43m,\u001B[49m\n\u001B[1;32m     25\u001B[0m \u001B[43m    \u001B[49m\u001B[43mfields\u001B[49m\u001B[38;5;241;43m=\u001B[39;49m\u001B[43m{\u001B[49m\u001B[38;5;124;43m'\u001B[39;49m\u001B[38;5;124;43mside\u001B[39;49m\u001B[38;5;124;43m'\u001B[39;49m\u001B[43m,\u001B[49m\u001B[43m \u001B[49m\u001B[38;5;124;43m'\u001B[39;49m\u001B[38;5;124;43mspeakerorder\u001B[39;49m\u001B[38;5;124;43m'\u001B[39;49m\u001B[43m,\u001B[49m\u001B[43m \u001B[49m\u001B[38;5;124;43m'\u001B[39;49m\u001B[38;5;124;43mchair\u001B[39;49m\u001B[38;5;124;43m'\u001B[39;49m\u001B[43m,\u001B[49m\u001B[43m \u001B[49m\u001B[38;5;124;43m'\u001B[39;49m\u001B[38;5;124;43mbye\u001B[39;49m\u001B[38;5;124;43m'\u001B[39;49m\u001B[43m,\u001B[49m\u001B[43m \u001B[49m\u001B[38;5;124;43m'\u001B[39;49m\u001B[38;5;124;43mforfeit\u001B[39;49m\u001B[38;5;124;43m'\u001B[39;49m\u001B[43m}\u001B[49m\u001B[43m,\u001B[49m\n\u001B[1;32m     26\u001B[0m \u001B[43m    \u001B[49m\u001B[43mconversions\u001B[49m\u001B[38;5;241;43m=\u001B[39;49m\u001B[43m{\u001B[49m\u001B[38;5;124;43m'\u001B[39;49m\u001B[38;5;124;43mjudge_started\u001B[39;49m\u001B[38;5;124;43m'\u001B[39;49m\u001B[43m:\u001B[49m\u001B[43m \u001B[49m\u001B[43mtoDate\u001B[49m\u001B[43m}\u001B[49m\u001B[43m \u001B[49m\u001B[38;5;241;43m|\u001B[39;49m\u001B[43m \u001B[49m\u001B[43m{\u001B[49m\u001B[43mk\u001B[49m\u001B[43m:\u001B[49m\u001B[43m \u001B[49m\u001B[38;5;28;43mint\u001B[39;49m\u001B[43m \u001B[49m\u001B[38;5;28;43;01mfor\u001B[39;49;00m\u001B[43m \u001B[49m\u001B[43mk\u001B[49m\u001B[43m \u001B[49m\u001B[38;5;129;43;01min\u001B[39;49;00m\u001B[43m \u001B[49m\u001B[43m{\u001B[49m\u001B[38;5;124;43m'\u001B[39;49m\u001B[38;5;124;43mentered_by\u001B[39;49m\u001B[38;5;124;43m'\u001B[39;49m\u001B[43m,\u001B[49m\u001B[43m \u001B[49m\u001B[38;5;124;43m'\u001B[39;49m\u001B[38;5;124;43mstarted_by\u001B[39;49m\u001B[38;5;124;43m'\u001B[39;49m\u001B[43m,\u001B[49m\u001B[43m \u001B[49m\u001B[38;5;124;43m'\u001B[39;49m\u001B[38;5;124;43maudited_by\u001B[39;49m\u001B[38;5;124;43m'\u001B[39;49m\u001B[43m,\u001B[49m\u001B[43m \u001B[49m\u001B[38;5;124;43m'\u001B[39;49m\u001B[38;5;124;43mpanel\u001B[39;49m\u001B[38;5;124;43m'\u001B[39;49m\u001B[43m,\u001B[49m\u001B[43m \u001B[49m\u001B[38;5;124;43m'\u001B[39;49m\u001B[38;5;124;43mjudge\u001B[39;49m\u001B[38;5;124;43m'\u001B[39;49m\u001B[43m,\u001B[49m\u001B[43m \u001B[49m\u001B[38;5;124;43m'\u001B[39;49m\u001B[38;5;124;43mentry\u001B[39;49m\u001B[38;5;124;43m'\u001B[39;49m\u001B[43m}\u001B[49m\u001B[43m}\u001B[49m\u001B[43m,\u001B[49m\n\u001B[1;32m     27\u001B[0m \u001B[43m    \u001B[49m\u001B[43mextra\u001B[49m\u001B[38;5;241;43m=\u001B[39;49m\u001B[43m{\u001B[49m\u001B[38;5;124;43m'\u001B[39;49m\u001B[38;5;124;43msection\u001B[39;49m\u001B[38;5;124;43m'\u001B[39;49m\u001B[43m:\u001B[49m\u001B[43m \u001B[49m\u001B[43mids\u001B[49m\u001B[43m[\u001B[49m\u001B[38;5;124;43m'\u001B[39;49m\u001B[38;5;124;43msection\u001B[39;49m\u001B[38;5;124;43m'\u001B[39;49m\u001B[43m]\u001B[49m\u001B[43m}\u001B[49m\n\u001B[1;32m     28\u001B[0m \u001B[43m\u001B[49m\u001B[43m)\u001B[49m\n\u001B[1;32m     30\u001B[0m \u001B[38;5;28;01mif\u001B[39;00m \u001B[38;5;124m'\u001B[39m\u001B[38;5;124mscores\u001B[39m\u001B[38;5;124m'\u001B[39m \u001B[38;5;129;01mnot\u001B[39;00m \u001B[38;5;129;01min\u001B[39;00m ballot: \u001B[38;5;28;01mreturn\u001B[39;00m\n",
      "Cell \u001B[0;32mIn[30], line 9\u001B[0m, in \u001B[0;36mloadSimple\u001B[0;34m(obj, obj_id, table, fields, conversions, extra)\u001B[0m\n\u001B[1;32m      8\u001B[0m \u001B[38;5;28;01mif\u001B[39;00m conversions \u001B[38;5;129;01mis\u001B[39;00m \u001B[38;5;28;01mNone\u001B[39;00m: conversions \u001B[38;5;241m=\u001B[39m \u001B[38;5;28mdict\u001B[39m()\n\u001B[0;32m----> 9\u001B[0m \u001B[38;5;28;01mreturn\u001B[39;00m \u001B[43mctx\u001B[49m\u001B[43m[\u001B[49m\u001B[38;5;124;43m'\u001B[39;49m\u001B[38;5;124;43mconn\u001B[39;49m\u001B[38;5;124;43m'\u001B[39;49m\u001B[43m]\u001B[49m\u001B[38;5;241;43m.\u001B[39;49m\u001B[43mexecute\u001B[49m\u001B[43m(\u001B[49m\u001B[43minsert\u001B[49m\u001B[43m(\u001B[49m\u001B[43mtable\u001B[49m\u001B[43m)\u001B[49m\u001B[38;5;241;43m.\u001B[39;49m\u001B[43mvalues\u001B[49m\u001B[43m(\u001B[49m\n\u001B[1;32m     10\u001B[0m \u001B[43m    \u001B[49m\u001B[38;5;28;43mid\u001B[39;49m\u001B[38;5;241;43m=\u001B[39;49m\u001B[43mobj_id\u001B[49m\u001B[43m,\u001B[49m\n\u001B[1;32m     11\u001B[0m \u001B[43m    \u001B[49m\u001B[38;5;241;43m*\u001B[39;49m\u001B[38;5;241;43m*\u001B[39;49m\u001B[43m{\u001B[49m\u001B[43mk\u001B[49m\u001B[43m:\u001B[49m\u001B[43m \u001B[49m\u001B[43mobj\u001B[49m\u001B[43m[\u001B[49m\u001B[43mk\u001B[49m\u001B[43m]\u001B[49m\u001B[43m \u001B[49m\u001B[38;5;28;43;01mif\u001B[39;49;00m\u001B[43m \u001B[49m\u001B[43m(\u001B[49m\u001B[43mk\u001B[49m\u001B[43m \u001B[49m\u001B[38;5;129;43;01min\u001B[39;49;00m\u001B[43m \u001B[49m\u001B[43mobj\u001B[49m\u001B[43m)\u001B[49m\u001B[43m \u001B[49m\u001B[38;5;28;43;01melse\u001B[39;49;00m\u001B[43m \u001B[49m\u001B[38;5;28;43;01mNone\u001B[39;49;00m\u001B[43m \u001B[49m\u001B[38;5;28;43;01mfor\u001B[39;49;00m\u001B[43m \u001B[49m\u001B[43mk\u001B[49m\u001B[43m \u001B[49m\u001B[38;5;129;43;01min\u001B[39;49;00m\u001B[43m \u001B[49m\u001B[43mfields\u001B[49m\u001B[43m}\u001B[49m\u001B[43m,\u001B[49m\n\u001B[1;32m     12\u001B[0m \u001B[43m    \u001B[49m\u001B[38;5;241;43m*\u001B[39;49m\u001B[38;5;241;43m*\u001B[39;49m\u001B[43m{\u001B[49m\u001B[43mk\u001B[49m\u001B[43m:\u001B[49m\u001B[43m \u001B[49m\u001B[43m(\u001B[49m\u001B[43mconvertor\u001B[49m\u001B[43m(\u001B[49m\u001B[43mobj\u001B[49m\u001B[43m[\u001B[49m\u001B[43mk\u001B[49m\u001B[43m]\u001B[49m\u001B[43m)\u001B[49m\u001B[43m \u001B[49m\u001B[38;5;28;43;01mif\u001B[39;49;00m\u001B[43m \u001B[49m\u001B[43m(\u001B[49m\u001B[43mk\u001B[49m\u001B[43m \u001B[49m\u001B[38;5;129;43;01min\u001B[39;49;00m\u001B[43m \u001B[49m\u001B[43mobj\u001B[49m\u001B[43m \u001B[49m\u001B[38;5;129;43;01mand\u001B[39;49;00m\u001B[43m \u001B[49m\u001B[43mobj\u001B[49m\u001B[43m[\u001B[49m\u001B[43mk\u001B[49m\u001B[43m]\u001B[49m\u001B[43m)\u001B[49m\u001B[43m \u001B[49m\u001B[38;5;28;43;01melse\u001B[39;49;00m\u001B[43m \u001B[49m\u001B[38;5;28;43;01mNone\u001B[39;49;00m\u001B[43m)\u001B[49m\u001B[43m \u001B[49m\u001B[38;5;28;43;01mfor\u001B[39;49;00m\u001B[43m \u001B[49m\u001B[43mk\u001B[49m\u001B[43m,\u001B[49m\u001B[43m \u001B[49m\u001B[43mconvertor\u001B[49m\u001B[43m \u001B[49m\u001B[38;5;129;43;01min\u001B[39;49;00m\u001B[43m \u001B[49m\u001B[43mconversions\u001B[49m\u001B[38;5;241;43m.\u001B[39;49m\u001B[43mitems\u001B[49m\u001B[43m(\u001B[49m\u001B[43m)\u001B[49m\u001B[43m}\u001B[49m\u001B[43m,\u001B[49m\n\u001B[1;32m     13\u001B[0m \u001B[43m    \u001B[49m\u001B[38;5;241;43m*\u001B[39;49m\u001B[38;5;241;43m*\u001B[39;49m\u001B[43mextra\u001B[49m\n\u001B[1;32m     14\u001B[0m \u001B[43m\u001B[49m\u001B[43m)\u001B[49m\u001B[38;5;241;43m.\u001B[39;49m\u001B[43mon_conflict_do_update\u001B[49m\u001B[43m(\u001B[49m\u001B[43mset_\u001B[49m\u001B[38;5;241;43m=\u001B[39;49m\u001B[43mtable\u001B[49m\u001B[38;5;241;43m.\u001B[39;49m\u001B[43mc\u001B[49m\u001B[43m)\u001B[49m\u001B[43m)\u001B[49m\u001B[38;5;241m.\u001B[39mlastrowid\n",
      "File \u001B[0;32m~/anaconda3/envs/dca/lib/python3.10/site-packages/sqlalchemy/engine/base.py:1414\u001B[0m, in \u001B[0;36mConnection.execute\u001B[0;34m(self, statement, parameters, execution_options)\u001B[0m\n\u001B[1;32m   1413\u001B[0m \u001B[38;5;28;01melse\u001B[39;00m:\n\u001B[0;32m-> 1414\u001B[0m     \u001B[38;5;28;01mreturn\u001B[39;00m \u001B[43mmeth\u001B[49m\u001B[43m(\u001B[49m\n\u001B[1;32m   1415\u001B[0m \u001B[43m        \u001B[49m\u001B[38;5;28;43mself\u001B[39;49m\u001B[43m,\u001B[49m\n\u001B[1;32m   1416\u001B[0m \u001B[43m        \u001B[49m\u001B[43mdistilled_parameters\u001B[49m\u001B[43m,\u001B[49m\n\u001B[1;32m   1417\u001B[0m \u001B[43m        \u001B[49m\u001B[43mexecution_options\u001B[49m\u001B[43m \u001B[49m\u001B[38;5;129;43;01mor\u001B[39;49;00m\u001B[43m \u001B[49m\u001B[43mNO_OPTIONS\u001B[49m\u001B[43m,\u001B[49m\n\u001B[1;32m   1418\u001B[0m \u001B[43m    \u001B[49m\u001B[43m)\u001B[49m\n",
      "File \u001B[0;32m~/anaconda3/envs/dca/lib/python3.10/site-packages/sqlalchemy/sql/elements.py:486\u001B[0m, in \u001B[0;36mClauseElement._execute_on_connection\u001B[0;34m(self, connection, distilled_params, execution_options)\u001B[0m\n\u001B[1;32m    485\u001B[0m         \u001B[38;5;28;01massert\u001B[39;00m \u001B[38;5;28misinstance\u001B[39m(\u001B[38;5;28mself\u001B[39m, Executable)\n\u001B[0;32m--> 486\u001B[0m     \u001B[38;5;28;01mreturn\u001B[39;00m \u001B[43mconnection\u001B[49m\u001B[38;5;241;43m.\u001B[39;49m\u001B[43m_execute_clauseelement\u001B[49m\u001B[43m(\u001B[49m\n\u001B[1;32m    487\u001B[0m \u001B[43m        \u001B[49m\u001B[38;5;28;43mself\u001B[39;49m\u001B[43m,\u001B[49m\u001B[43m \u001B[49m\u001B[43mdistilled_params\u001B[49m\u001B[43m,\u001B[49m\u001B[43m \u001B[49m\u001B[43mexecution_options\u001B[49m\n\u001B[1;32m    488\u001B[0m \u001B[43m    \u001B[49m\u001B[43m)\u001B[49m\n\u001B[1;32m    489\u001B[0m \u001B[38;5;28;01melse\u001B[39;00m:\n",
      "File \u001B[0;32m~/anaconda3/envs/dca/lib/python3.10/site-packages/sqlalchemy/engine/base.py:1630\u001B[0m, in \u001B[0;36mConnection._execute_clauseelement\u001B[0;34m(self, elem, distilled_parameters, execution_options)\u001B[0m\n\u001B[1;32m   1626\u001B[0m compiled_cache: Optional[CompiledCacheType] \u001B[38;5;241m=\u001B[39m execution_options\u001B[38;5;241m.\u001B[39mget(\n\u001B[1;32m   1627\u001B[0m     \u001B[38;5;124m\"\u001B[39m\u001B[38;5;124mcompiled_cache\u001B[39m\u001B[38;5;124m\"\u001B[39m, \u001B[38;5;28mself\u001B[39m\u001B[38;5;241m.\u001B[39mengine\u001B[38;5;241m.\u001B[39m_compiled_cache\n\u001B[1;32m   1628\u001B[0m )\n\u001B[0;32m-> 1630\u001B[0m compiled_sql, extracted_params, cache_hit \u001B[38;5;241m=\u001B[39m \u001B[43melem\u001B[49m\u001B[38;5;241;43m.\u001B[39;49m\u001B[43m_compile_w_cache\u001B[49m\u001B[43m(\u001B[49m\n\u001B[1;32m   1631\u001B[0m \u001B[43m    \u001B[49m\u001B[43mdialect\u001B[49m\u001B[38;5;241;43m=\u001B[39;49m\u001B[43mdialect\u001B[49m\u001B[43m,\u001B[49m\n\u001B[1;32m   1632\u001B[0m \u001B[43m    \u001B[49m\u001B[43mcompiled_cache\u001B[49m\u001B[38;5;241;43m=\u001B[39;49m\u001B[43mcompiled_cache\u001B[49m\u001B[43m,\u001B[49m\n\u001B[1;32m   1633\u001B[0m \u001B[43m    \u001B[49m\u001B[43mcolumn_keys\u001B[49m\u001B[38;5;241;43m=\u001B[39;49m\u001B[43mkeys\u001B[49m\u001B[43m,\u001B[49m\n\u001B[1;32m   1634\u001B[0m \u001B[43m    \u001B[49m\u001B[43mfor_executemany\u001B[49m\u001B[38;5;241;43m=\u001B[39;49m\u001B[43mfor_executemany\u001B[49m\u001B[43m,\u001B[49m\n\u001B[1;32m   1635\u001B[0m \u001B[43m    \u001B[49m\u001B[43mschema_translate_map\u001B[49m\u001B[38;5;241;43m=\u001B[39;49m\u001B[43mschema_translate_map\u001B[49m\u001B[43m,\u001B[49m\n\u001B[1;32m   1636\u001B[0m \u001B[43m    \u001B[49m\u001B[43mlinting\u001B[49m\u001B[38;5;241;43m=\u001B[39;49m\u001B[38;5;28;43mself\u001B[39;49m\u001B[38;5;241;43m.\u001B[39;49m\u001B[43mdialect\u001B[49m\u001B[38;5;241;43m.\u001B[39;49m\u001B[43mcompiler_linting\u001B[49m\u001B[43m \u001B[49m\u001B[38;5;241;43m|\u001B[39;49m\u001B[43m \u001B[49m\u001B[43mcompiler\u001B[49m\u001B[38;5;241;43m.\u001B[39;49m\u001B[43mWARN_LINTING\u001B[49m\u001B[43m,\u001B[49m\n\u001B[1;32m   1637\u001B[0m \u001B[43m\u001B[49m\u001B[43m)\u001B[49m\n\u001B[1;32m   1638\u001B[0m ret \u001B[38;5;241m=\u001B[39m \u001B[38;5;28mself\u001B[39m\u001B[38;5;241m.\u001B[39m_execute_context(\n\u001B[1;32m   1639\u001B[0m     dialect,\n\u001B[1;32m   1640\u001B[0m     dialect\u001B[38;5;241m.\u001B[39mexecution_ctx_cls\u001B[38;5;241m.\u001B[39m_init_compiled,\n\u001B[0;32m   (...)\u001B[0m\n\u001B[1;32m   1648\u001B[0m     cache_hit\u001B[38;5;241m=\u001B[39mcache_hit,\n\u001B[1;32m   1649\u001B[0m )\n",
      "File \u001B[0;32m~/anaconda3/envs/dca/lib/python3.10/site-packages/sqlalchemy/sql/elements.py:665\u001B[0m, in \u001B[0;36mClauseElement._compile_w_cache\u001B[0;34m(self, dialect, compiled_cache, column_keys, for_executemany, schema_translate_map, **kw)\u001B[0m\n\u001B[1;32m    664\u001B[0m extracted_params \u001B[38;5;241m=\u001B[39m \u001B[38;5;28;01mNone\u001B[39;00m\n\u001B[0;32m--> 665\u001B[0m compiled_sql \u001B[38;5;241m=\u001B[39m \u001B[38;5;28;43mself\u001B[39;49m\u001B[38;5;241;43m.\u001B[39;49m\u001B[43m_compiler\u001B[49m\u001B[43m(\u001B[49m\n\u001B[1;32m    666\u001B[0m \u001B[43m    \u001B[49m\u001B[43mdialect\u001B[49m\u001B[43m,\u001B[49m\n\u001B[1;32m    667\u001B[0m \u001B[43m    \u001B[49m\u001B[43mcache_key\u001B[49m\u001B[38;5;241;43m=\u001B[39;49m\u001B[43melem_cache_key\u001B[49m\u001B[43m,\u001B[49m\n\u001B[1;32m    668\u001B[0m \u001B[43m    \u001B[49m\u001B[43mcolumn_keys\u001B[49m\u001B[38;5;241;43m=\u001B[39;49m\u001B[43mcolumn_keys\u001B[49m\u001B[43m,\u001B[49m\n\u001B[1;32m    669\u001B[0m \u001B[43m    \u001B[49m\u001B[43mfor_executemany\u001B[49m\u001B[38;5;241;43m=\u001B[39;49m\u001B[43mfor_executemany\u001B[49m\u001B[43m,\u001B[49m\n\u001B[1;32m    670\u001B[0m \u001B[43m    \u001B[49m\u001B[43mschema_translate_map\u001B[49m\u001B[38;5;241;43m=\u001B[39;49m\u001B[43mschema_translate_map\u001B[49m\u001B[43m,\u001B[49m\n\u001B[1;32m    671\u001B[0m \u001B[43m    \u001B[49m\u001B[38;5;241;43m*\u001B[39;49m\u001B[38;5;241;43m*\u001B[39;49m\u001B[43mkw\u001B[49m\u001B[43m,\u001B[49m\n\u001B[1;32m    672\u001B[0m \u001B[43m\u001B[49m\u001B[43m)\u001B[49m\n\u001B[1;32m    674\u001B[0m \u001B[38;5;28;01mif\u001B[39;00m \u001B[38;5;129;01mnot\u001B[39;00m dialect\u001B[38;5;241m.\u001B[39m_supports_statement_cache:\n",
      "File \u001B[0;32m~/anaconda3/envs/dca/lib/python3.10/site-packages/sqlalchemy/sql/elements.py:291\u001B[0m, in \u001B[0;36mCompilerElement._compiler\u001B[0;34m(self, dialect, **kw)\u001B[0m\n\u001B[1;32m    290\u001B[0m     \u001B[38;5;28;01massert\u001B[39;00m \u001B[38;5;28misinstance\u001B[39m(\u001B[38;5;28mself\u001B[39m, ClauseElement)\n\u001B[0;32m--> 291\u001B[0m \u001B[38;5;28;01mreturn\u001B[39;00m \u001B[43mdialect\u001B[49m\u001B[38;5;241;43m.\u001B[39;49m\u001B[43mstatement_compiler\u001B[49m\u001B[43m(\u001B[49m\u001B[43mdialect\u001B[49m\u001B[43m,\u001B[49m\u001B[43m \u001B[49m\u001B[38;5;28;43mself\u001B[39;49m\u001B[43m,\u001B[49m\u001B[43m \u001B[49m\u001B[38;5;241;43m*\u001B[39;49m\u001B[38;5;241;43m*\u001B[39;49m\u001B[43mkw\u001B[49m\u001B[43m)\u001B[49m\n",
      "File \u001B[0;32m~/anaconda3/envs/dca/lib/python3.10/site-packages/sqlalchemy/sql/compiler.py:1269\u001B[0m, in \u001B[0;36mSQLCompiler.__init__\u001B[0;34m(self, dialect, statement, cache_key, column_keys, for_executemany, linting, **kwargs)\u001B[0m\n\u001B[1;32m   1267\u001B[0m \u001B[38;5;28mself\u001B[39m\u001B[38;5;241m.\u001B[39m_truncated_counters: Dict[\u001B[38;5;28mstr\u001B[39m, \u001B[38;5;28mint\u001B[39m] \u001B[38;5;241m=\u001B[39m {}\n\u001B[0;32m-> 1269\u001B[0m \u001B[43mCompiled\u001B[49m\u001B[38;5;241;43m.\u001B[39;49m\u001B[38;5;21;43m__init__\u001B[39;49m\u001B[43m(\u001B[49m\u001B[38;5;28;43mself\u001B[39;49m\u001B[43m,\u001B[49m\u001B[43m \u001B[49m\u001B[43mdialect\u001B[49m\u001B[43m,\u001B[49m\u001B[43m \u001B[49m\u001B[43mstatement\u001B[49m\u001B[43m,\u001B[49m\u001B[43m \u001B[49m\u001B[38;5;241;43m*\u001B[39;49m\u001B[38;5;241;43m*\u001B[39;49m\u001B[43mkwargs\u001B[49m\u001B[43m)\u001B[49m\n\u001B[1;32m   1271\u001B[0m \u001B[38;5;28;01mif\u001B[39;00m \u001B[38;5;28mself\u001B[39m\u001B[38;5;241m.\u001B[39misinsert \u001B[38;5;129;01mor\u001B[39;00m \u001B[38;5;28mself\u001B[39m\u001B[38;5;241m.\u001B[39misupdate \u001B[38;5;129;01mor\u001B[39;00m \u001B[38;5;28mself\u001B[39m\u001B[38;5;241m.\u001B[39misdelete:\n",
      "File \u001B[0;32m~/anaconda3/envs/dca/lib/python3.10/site-packages/sqlalchemy/sql/compiler.py:710\u001B[0m, in \u001B[0;36mCompiled.__init__\u001B[0;34m(self, dialect, statement, schema_translate_map, render_schema_translate, compile_kwargs)\u001B[0m\n\u001B[1;32m    709\u001B[0m     \u001B[38;5;28mself\u001B[39m\u001B[38;5;241m.\u001B[39mexecution_options \u001B[38;5;241m=\u001B[39m statement\u001B[38;5;241m.\u001B[39m_execution_options\n\u001B[0;32m--> 710\u001B[0m \u001B[38;5;28mself\u001B[39m\u001B[38;5;241m.\u001B[39mstring \u001B[38;5;241m=\u001B[39m \u001B[38;5;28;43mself\u001B[39;49m\u001B[38;5;241;43m.\u001B[39;49m\u001B[43mprocess\u001B[49m\u001B[43m(\u001B[49m\u001B[38;5;28;43mself\u001B[39;49m\u001B[38;5;241;43m.\u001B[39;49m\u001B[43mstatement\u001B[49m\u001B[43m,\u001B[49m\u001B[43m \u001B[49m\u001B[38;5;241;43m*\u001B[39;49m\u001B[38;5;241;43m*\u001B[39;49m\u001B[43mcompile_kwargs\u001B[49m\u001B[43m)\u001B[49m\n\u001B[1;32m    712\u001B[0m \u001B[38;5;28;01mif\u001B[39;00m render_schema_translate:\n",
      "File \u001B[0;32m~/anaconda3/envs/dca/lib/python3.10/site-packages/sqlalchemy/sql/compiler.py:755\u001B[0m, in \u001B[0;36mCompiled.process\u001B[0;34m(self, obj, **kwargs)\u001B[0m\n\u001B[1;32m    754\u001B[0m \u001B[38;5;28;01mdef\u001B[39;00m \u001B[38;5;21mprocess\u001B[39m(\u001B[38;5;28mself\u001B[39m, obj: Visitable, \u001B[38;5;241m*\u001B[39m\u001B[38;5;241m*\u001B[39mkwargs: Any) \u001B[38;5;241m-\u001B[39m\u001B[38;5;241m>\u001B[39m \u001B[38;5;28mstr\u001B[39m:\n\u001B[0;32m--> 755\u001B[0m     \u001B[38;5;28;01mreturn\u001B[39;00m \u001B[43mobj\u001B[49m\u001B[38;5;241;43m.\u001B[39;49m\u001B[43m_compiler_dispatch\u001B[49m\u001B[43m(\u001B[49m\u001B[38;5;28;43mself\u001B[39;49m\u001B[43m,\u001B[49m\u001B[43m \u001B[49m\u001B[38;5;241;43m*\u001B[39;49m\u001B[38;5;241;43m*\u001B[39;49m\u001B[43mkwargs\u001B[49m\u001B[43m)\u001B[49m\n",
      "File \u001B[0;32m~/anaconda3/envs/dca/lib/python3.10/site-packages/sqlalchemy/sql/visitors.py:143\u001B[0m, in \u001B[0;36mVisitable._generate_compiler_dispatch.<locals>._compiler_dispatch\u001B[0;34m(self, visitor, **kw)\u001B[0m\n\u001B[1;32m    142\u001B[0m \u001B[38;5;28;01melse\u001B[39;00m:\n\u001B[0;32m--> 143\u001B[0m     \u001B[38;5;28;01mreturn\u001B[39;00m \u001B[43mmeth\u001B[49m\u001B[43m(\u001B[49m\u001B[38;5;28;43mself\u001B[39;49m\u001B[43m,\u001B[49m\u001B[43m \u001B[49m\u001B[38;5;241;43m*\u001B[39;49m\u001B[38;5;241;43m*\u001B[39;49m\u001B[43mkw\u001B[49m\u001B[43m)\u001B[49m\n",
      "File \u001B[0;32m~/anaconda3/envs/dca/lib/python3.10/site-packages/sqlalchemy/sql/compiler.py:5481\u001B[0m, in \u001B[0;36mSQLCompiler.visit_insert\u001B[0;34m(self, insert_stmt, visited_bindparam, **kw)\u001B[0m\n\u001B[1;32m   5479\u001B[0m         text \u001B[38;5;241m+\u001B[39m\u001B[38;5;241m=\u001B[39m \u001B[38;5;124m\"\u001B[39m\u001B[38;5;124m \u001B[39m\u001B[38;5;124m\"\u001B[39m \u001B[38;5;241m+\u001B[39m post_values_clause\n\u001B[0;32m-> 5481\u001B[0m \u001B[38;5;28;01mif\u001B[39;00m returning_clause \u001B[38;5;129;01mand\u001B[39;00m \u001B[38;5;129;01mnot\u001B[39;00m \u001B[38;5;28mself\u001B[39m\u001B[38;5;241m.\u001B[39mreturning_precedes_values:\n\u001B[1;32m   5482\u001B[0m     text \u001B[38;5;241m+\u001B[39m\u001B[38;5;241m=\u001B[39m \u001B[38;5;124m\"\u001B[39m\u001B[38;5;124m \u001B[39m\u001B[38;5;124m\"\u001B[39m \u001B[38;5;241m+\u001B[39m returning_clause\n",
      "\u001B[0;31mKeyboardInterrupt\u001B[0m: ",
      "\nDuring handling of the above exception, another exception occurred:\n",
      "\u001B[0;31mKeyboardInterrupt\u001B[0m                         Traceback (most recent call last)",
      "Cell \u001B[0;32mIn[31], line 2\u001B[0m\n\u001B[1;32m      1\u001B[0m \u001B[38;5;28;01mfor\u001B[39;00m tournamentId \u001B[38;5;129;01min\u001B[39;00m tqdm(tournamentIds):\n\u001B[0;32m----> 2\u001B[0m     \u001B[43mstartTournament\u001B[49m\u001B[43m(\u001B[49m\u001B[43mtournamentId\u001B[49m\u001B[43m)\u001B[49m\n",
      "Cell \u001B[0;32mIn[20], line 8\u001B[0m, in \u001B[0;36mstartTournament\u001B[0;34m(i)\u001B[0m\n\u001B[1;32m      6\u001B[0m         processTournament(i)\n\u001B[1;32m      7\u001B[0m \u001B[38;5;28;01mexcept\u001B[39;00m \u001B[38;5;167;01mKeyboardInterrupt\u001B[39;00m:\n\u001B[0;32m----> 8\u001B[0m     \u001B[38;5;28;01mraise\u001B[39;00m \u001B[38;5;167;01mKeyboardInterrupt\u001B[39;00m\n",
      "\u001B[0;31mKeyboardInterrupt\u001B[0m: "
     ]
    }
   ],
   "source": [
    "for tournamentId in tqdm(tournamentIds):\n",
    "    startTournament(tournamentId)"
   ],
   "metadata": {
    "collapsed": false
   }
  },
  {
   "cell_type": "code",
   "execution_count": 85,
   "outputs": [],
   "source": [
    "# %lprun -f processTournament -f processCategory -f processEvent -f processRound -f processSection -f processBallot -f processScore -f processResultSet -f processResult -f loadSimple startTournament(tournamentIds[id])"
   ],
   "metadata": {
    "collapsed": false
   }
  },
  {
   "cell_type": "code",
   "execution_count": 27,
   "outputs": [],
   "source": [
    "# metadata.drop_all(engine)\n",
    "# metadata.create_all(engine)"
   ],
   "metadata": {
    "collapsed": false
   }
  },
  {
   "cell_type": "code",
   "execution_count": 58,
   "outputs": [],
   "source": [],
   "metadata": {
    "collapsed": false
   }
  }
 ],
 "metadata": {
  "kernelspec": {
   "display_name": "Python 3",
   "language": "python",
   "name": "python3"
  },
  "language_info": {
   "codemirror_mode": {
    "name": "ipython",
    "version": 2
   },
   "file_extension": ".py",
   "mimetype": "text/x-python",
   "name": "python",
   "nbconvert_exporter": "python",
   "pygments_lexer": "ipython2",
   "version": "2.7.6"
  }
 },
 "nbformat": 4,
 "nbformat_minor": 0
}
