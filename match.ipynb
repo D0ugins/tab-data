{
 "cells": [
  {
   "cell_type": "code",
   "execution_count": 88,
   "outputs": [],
   "source": [
    "import itertools\n",
    "import re\n",
    "import numpy as np\n",
    "from tqdm.notebook import tqdm\n",
    "from tabDatabase import *\n",
    "import matplotlib.pyplot as plt\n",
    "import pandas as pd\n",
    "import json\n",
    "from sqlalchemy import Connection\n",
    "%load_ext line_profiler\n",
    "\n",
    "total_entries = 615613\n",
    "caselist_total = 338521\n",
    "metadata.create_all(tabEngine)\n",
    "pd.set_option(\"display.max_columns\", None)\n",
    "# pd.set_option(\"display.max_rows\", 20)\n",
    "tqdm.pandas()"
   ],
   "metadata": {
    "collapsed": false,
    "ExecuteTime": {
     "end_time": "2023-06-23T16:26:30.120935200Z",
     "start_time": "2023-06-23T16:26:26.730665300Z"
    }
   }
  },
  {
   "attachments": {},
   "cell_type": "markdown",
   "metadata": {
    "collapsed": false
   },
   "source": [
    "# Find Team Names"
   ]
  },
  {
   "cell_type": "code",
   "execution_count": 17,
   "metadata": {
    "collapsed": false,
    "ExecuteTime": {
     "end_time": "2023-06-23T14:43:58.666484100Z",
     "start_time": "2023-06-23T14:43:58.659157900Z"
    }
   },
   "outputs": [],
   "source": [
    "from collections import Counter, defaultdict"
   ]
  },
  {
   "cell_type": "code",
   "execution_count": 18,
   "outputs": [],
   "source": [
    "def getSections(entry_name: str) -> list[str]:\n",
    "    if ' - ' in entry_name and ' and ' in entry_name: # Some were formatted like this before 2015-2016 season\n",
    "        entry_name = entry_name.split(' - ')[1]\n",
    "    sections = re.split(r', | & | and ', entry_name)\n",
    "    return [s.strip() for s in sections if s.strip()] # Filter out empty and trim"
   ],
   "metadata": {
    "collapsed": false,
    "ExecuteTime": {
     "end_time": "2023-06-23T14:43:58.802358600Z",
     "start_time": "2023-06-23T14:43:58.795356900Z"
    }
   }
  },
  {
   "cell_type": "code",
   "execution_count": 19,
   "metadata": {
    "collapsed": false,
    "ExecuteTime": {
     "end_time": "2023-06-23T14:43:58.939350600Z",
     "start_time": "2023-06-23T14:43:58.932985800Z"
    }
   },
   "outputs": [],
   "source": [
    "getShortName = lambda s: re.sub(r'[^a-zA-Z]', '', s)[0:2].capitalize()\n",
    "def parseTeamName(entry_name: str) -> tuple[str, str]:\n",
    "    sections = getSections(entry_name)\n",
    "    if len(sections) >= 2:\n",
    "        sections = sorted(sections)\n",
    "        return '&'.join([getShortName(s) for s in sections]), ' & '.join(sections)\n",
    "    else:\n",
    "        return ' '.join([getShortName(s) for s in sections[0].split(' ')]), sections[0]"
   ]
  },
  {
   "cell_type": "code",
   "execution_count": 20,
   "metadata": {
    "collapsed": false,
    "ExecuteTime": {
     "end_time": "2023-06-23T14:44:14.948322600Z",
     "start_time": "2023-06-23T14:43:59.069289500Z"
    }
   },
   "outputs": [
    {
     "data": {
      "text/plain": "  0%|          | 0/544143 [00:00<?, ?it/s]",
      "application/vnd.jupyter.widget-view+json": {
       "version_major": 2,
       "version_minor": 0,
       "model_id": "1bf8fce397624c59aae1d21c4766d2d5"
      }
     },
     "metadata": {},
     "output_type": "display_data"
    }
   ],
   "source": [
    "with tabEngine.begin() as conn:\n",
    "    team_entries = conn.execute(text(\"\"\"\n",
    "        select t.id as team_id, t.num_debaters, e.*, t2.season from entry e\n",
    "            join team t on e.team = t.id\n",
    "            join event e2 on e.event = e2.id\n",
    "            join category c on e2.category = c.id\n",
    "            join tournament t2 on c.tournament = t2.id\n",
    "            where ((t.num_debaters = 1 and e.name regexp '[a-zA-Z\\-'']+ [a-zA-Z\\-'']+') or\n",
    "                  (t.num_debaters >= 2 and e.name regexp '([a-zA-Z\\-''. ]+, )*[a-zA-Z\\-''. ]+ & [a-zA-Z\\-''. ]+'))\n",
    "                  and t2.season >= 2013;\n",
    "    \"\"\"))\n",
    "    rows = list(tqdm(team_entries.mappings(), total=544143))"
   ]
  },
  {
   "cell_type": "code",
   "execution_count": 21,
   "metadata": {
    "collapsed": false,
    "ExecuteTime": {
     "end_time": "2023-06-23T14:44:19.037770400Z",
     "start_time": "2023-06-23T14:44:14.947323100Z"
    }
   },
   "outputs": [
    {
     "data": {
      "text/plain": "  0%|          | 0/544143 [00:00<?, ?it/s]",
      "application/vnd.jupyter.widget-view+json": {
       "version_major": 2,
       "version_minor": 0,
       "model_id": "5a892d1a97574e869ee4dd004df2b87d"
      }
     },
     "metadata": {},
     "output_type": "display_data"
    }
   ],
   "source": [
    "team_code_sets: defaultdict[str, set] = defaultdict(set)\n",
    "team_name_sets: defaultdict[str, set] = defaultdict(set)\n",
    "for row in tqdm(rows):\n",
    "    team_short_name, team_full_name = parseTeamName(row['name'])\n",
    "    if team_short_name: team_short_name += str(row['season'])\n",
    "    if team_full_name: team_full_name += str(row['season'])\n",
    "\n",
    "    team_code_sets[team_short_name].add(row['team_id'])\n",
    "    team_name_sets[team_full_name].add(row['team_id'])"
   ]
  },
  {
   "attachments": {},
   "cell_type": "markdown",
   "metadata": {
    "collapsed": false
   },
   "source": [
    "# Match to caselist"
   ]
  },
  {
   "cell_type": "markdown",
   "source": [
    "- Direct\n",
    "    - Name from open source\n",
    "    - Judge names\n",
    "    - Opponent codes\n",
    "    - Side+num\n",
    "    - Only with name/initials\n",
    "- Indirect\n",
    "    - school\n",
    "    - only name/initials with other matches removed"
   ],
   "metadata": {
    "collapsed": false
   }
  },
  {
   "cell_type": "code",
   "execution_count": 109,
   "metadata": {
    "collapsed": false,
    "ExecuteTime": {
     "end_time": "2023-06-23T16:35:05.483665100Z",
     "start_time": "2023-06-23T16:35:04.031586200Z"
    }
   },
   "outputs": [],
   "source": [
    "caselist_data = pd.read_feather('./data/caselist_data.feather')\n",
    "caselist_team_data = caselist_data.drop_duplicates('teamId').set_index('teamId')\n",
    "caselist_data_by_team = caselist_data.set_index(['teamId', 'roundId'])"
   ]
  },
  {
   "cell_type": "code",
   "execution_count": 113,
   "outputs": [],
   "source": [
    "from typing_extensions import Self\n",
    "\n",
    "sort_str = lambda s: ''.join(sorted(s))\n",
    "opponent_codes_stmt = text(\"\"\"\n",
    "        select distinct any_ballot.section, opponent_entry.short_name from team\n",
    "            join entry team_entry on team.id = team_entry.team\n",
    "            join ballot team_ballot on team_entry.id = team_ballot.entry\n",
    "            join ballot any_ballot on team_ballot.section = any_ballot.section\n",
    "            join entry opponent_entry on opponent_entry.id = any_ballot.entry\n",
    "            where team.id = :team_id and opponent_entry.id != team_entry.id and opponent_entry.short_name is not null;\n",
    "\"\"\")\n",
    "\n",
    "class CaselistTeam:\n",
    "    def __init__(self, caselist_id: int, rounds: pd.DataFrame = None):\n",
    "        self.caselist_id = caselist_id\n",
    "        try:\n",
    "            self.rounds = rounds if rounds is not None else caselist_data_by_team.loc[caselist_id]\n",
    "        except KeyError:\n",
    "            raise ValueError(f\"no rounds for the caselist team id {caselist_id}\")\n",
    "\n",
    "        self.team_data = self.rounds.iloc[0]\n",
    "        self.caselist_judges = self.rounds.judge.dropna().str.lower()\n",
    "        self.caselist_single_judges = self.caselist_judges[self.caselist_judges.str.fullmatch(r'\\w+ \\w+')]\n",
    "        opponents = self.rounds.opponent.dropna()\n",
    "        self.caselist_opponent_codes = opponents[opponents.str.match(r'.*\\s[a-zA-Z]{2}$')].str[-2:].str.upper()\n",
    "        # Sort codes for two-person teams\n",
    "        if self.team_data.teamSize > 1: self.caselist_opponent_codes = self.caselist_opponent_codes.apply(sort_str)\n",
    "        self.candidate_ids = self.find_team_ids()\n",
    "\n",
    "        self.total_rounds = len(self.rounds)\n",
    "        self.total_judges = len(self.caselist_single_judges)\n",
    "        self.total_opponents = len(self.caselist_opponent_codes)\n",
    "\n",
    "        self.judge_matches: dict[int, int] = {}\n",
    "        self.opponent_matches: dict[int, int] = {}\n",
    "\n",
    "    def find_team_ids(self) -> set[int] | None:\n",
    "        if self.team_data.teamSize == 2:\n",
    "            if self.team_data.debater2Last is None: return None\n",
    "            names = sorted((self.team_data.debater1Last[0:2], self.team_data.debater2Last[0:2]))\n",
    "            team_code = '&'.join(names) + str(self.team_data.year)\n",
    "        else:\n",
    "            team_code = f\"{self.team_data.debater1First[0:2]} {self.team_data.debater1Last[0:2]}{self.team_data.year}\"\n",
    "        return team_code_sets[team_code]\n",
    "\n",
    "    def find_judge_matches(self, tabroom_connection: Connection) -> dict[int, int]:\n",
    "        match_data = {}\n",
    "        judge_q = ballot_table\\\n",
    "            .join(judge_table, ballot_table.c.judge == judge_table.c.id)\\\n",
    "            .join(entry_table, ballot_table.c.entry == entry_table.c.id)\\\n",
    "            .select().where(entry_table.c.team.in_(self.candidate_ids)).order_by(entry_table.c.team)\n",
    "\n",
    "        for tabroom_team_id, ballots in itertools.groupby(tabroom_connection.execute(judge_q).mappings(), lambda x: x['team']):\n",
    "            ballots = list(ballots)\n",
    "            tab_single_judges = [\n",
    "                re.sub(r'[^\\s\\w]', '', f'{ballots[0][\"first\"]} {ballots[0][\"last\"]}'.lower()) for ballots in\n",
    "                (list(ballots) for _, ballots in itertools.groupby(ballots, lambda x: x['section']))\n",
    "                if len(ballots) == 1\n",
    "            ]\n",
    "            match_data[tabroom_team_id] = sum(judge in tab_single_judges for judge in self.caselist_single_judges)\n",
    "        return match_data\n",
    "\n",
    "    def find_opponent_matches(self, tabroom_connection: Connection) -> dict[int, int]:\n",
    "        match_data = {}\n",
    "        for tabroom_team_id in self.candidate_ids:\n",
    "            tabroom_opponents = [\n",
    "                r['short_name']\n",
    "                for r in tabroom_connection.execute(opponent_codes_stmt.bindparams(team_id=tabroom_team_id)).mappings()\n",
    "            ]\n",
    "            print(tabroom_team_id, tabroom_opponents)\n",
    "            match_data[tabroom_team_id] = sum(opponent in tabroom_opponents for opponent in self.caselist_opponent_codes)\n",
    "        return match_data\n",
    "\n",
    "    def match(self, tabroom_connection: Connection) -> Self:\n",
    "        self.candidate_ids = self.find_team_ids()\n",
    "        if not self.candidate_ids: return self\n",
    "\n",
    "        self.judge_matches = self.find_judge_matches(tabroom_connection)\n",
    "        self.opponent_matches = self.find_opponent_matches(tabroom_connection)\n",
    "        return self\n",
    "\n",
    "    @property\n",
    "    def only(self) -> bool: return len(self.candidate_ids) == 1 if self.candidate_ids else False\n",
    "    @property\n",
    "    def only_id(self) -> int | None: return list(self.candidate_ids)[0] if self.only else None\n",
    "\n",
    "    def to_json(self) -> dict:\n",
    "        return {\n",
    "            'caselist_id': self.caselist_id,\n",
    "            'total_rounds': self.total_rounds,\n",
    "            'total_judges': self.total_judges,\n",
    "            'total_opponents': self.total_opponents,\n",
    "            'judge_matches': self.judge_matches,\n",
    "            'opponent_matches':self.total_opponents,\n",
    "            'only': self.only,\n",
    "            'only_id': self.only_id,\n",
    "        }\n",
    "\n",
    "    @staticmethod\n",
    "    def from_json(data) -> 'CaselistTeam':\n",
    "        team = CaselistTeam(data['caselist_id'])\n",
    "        team.judge_matches = data['judge_matches']\n",
    "        team.opponent_matches = data['opponent_matches']\n",
    "        return team\n"
   ],
   "metadata": {
    "collapsed": false,
    "ExecuteTime": {
     "end_time": "2023-06-23T16:35:47.874361200Z",
     "start_time": "2023-06-23T16:35:47.806608700Z"
    }
   }
  },
  {
   "cell_type": "code",
   "execution_count": 38,
   "metadata": {
    "collapsed": false,
    "ExecuteTime": {
     "end_time": "2023-06-23T15:40:32.118388400Z",
     "start_time": "2023-06-23T15:28:14.182721700Z"
    }
   },
   "outputs": [
    {
     "data": {
      "text/plain": "  0%|          | 0/25504 [00:00<?, ?it/s]",
      "application/vnd.jupyter.widget-view+json": {
       "version_major": 2,
       "version_minor": 0,
       "model_id": "fab3c89484214d93abf63b59010dd8a3"
      }
     },
     "metadata": {},
     "output_type": "display_data"
    }
   ],
   "source": [
    "caselist_tab_map: dict[int, CaselistTeam] = {}\n",
    "\n",
    "with tabEngine.begin() as conn:\n",
    "    for teamId, rounds in tqdm(caselist_data.groupby('teamId')):\n",
    "        caselist_tab_map[teamId] = CaselistTeam(teamId, rounds).match(conn)"
   ]
  },
  {
   "cell_type": "code",
   "execution_count": 132,
   "metadata": {
    "ExecuteTime": {
     "end_time": "2023-06-23T16:43:43.438927Z",
     "start_time": "2023-06-23T16:43:42.367558800Z"
    }
   },
   "outputs": [],
   "source": [
    "with open('./data/caselist_tab_judge_info.json', 'w') as f:\n",
    "  json.dump({k: v.to_json() for k, v in caselist_tab_map.items()}, f)"
   ]
  },
  {
   "cell_type": "markdown",
   "source": [
    "## Analyze matches"
   ],
   "metadata": {
    "collapsed": false
   }
  },
  {
   "cell_type": "code",
   "execution_count": 87,
   "outputs": [],
   "source": [
    "with open('./data/caselist_tab_judge_info.json', 'r') as f:\n",
    "    loaded = list(json.load(f).items())"
   ],
   "metadata": {
    "collapsed": false,
    "ExecuteTime": {
     "end_time": "2023-06-23T16:26:15.390607400Z",
     "start_time": "2023-06-23T16:26:15.260586200Z"
    }
   }
  },
  {
   "cell_type": "code",
   "execution_count": 118,
   "outputs": [],
   "source": [
    "%lprun -f CaselistTeam.__init__ [CaselistTeam(loaded[i][1]['caselist_id']) for i in range(1000)]"
   ],
   "metadata": {
    "collapsed": false,
    "ExecuteTime": {
     "end_time": "2023-06-23T16:36:45.410913700Z",
     "start_time": "2023-06-23T16:36:42.674025800Z"
    }
   }
  },
  {
   "cell_type": "code",
   "execution_count": 133,
   "outputs": [
    {
     "data": {
      "text/plain": "  0%|          | 0/25504 [00:00<?, ?it/s]",
      "application/vnd.jupyter.widget-view+json": {
       "version_major": 2,
       "version_minor": 0,
       "model_id": "50f018e074a74b86a2673dc99b9043f0"
      }
     },
     "metadata": {},
     "output_type": "display_data"
    }
   ],
   "source": [
    "with open('./data/caselist_tab_judge_info.json', 'r') as f:\n",
    "    caselist_tab_map: dict[int, CaselistTeam] = {int(k): CaselistTeam.from_json(v) for k,v in tqdm(json.load(f).items())}"
   ],
   "metadata": {
    "collapsed": false,
    "ExecuteTime": {
     "end_time": "2023-06-23T16:44:52.125720Z",
     "start_time": "2023-06-23T16:43:51.314071500Z"
    }
   }
  },
  {
   "cell_type": "code",
   "execution_count": 137,
   "metadata": {
    "collapsed": false,
    "ExecuteTime": {
     "end_time": "2023-06-23T16:46:09.069711800Z",
     "start_time": "2023-06-23T16:46:08.817612Z"
    }
   },
   "outputs": [],
   "source": [
    "judge_ratio = np.array([\n",
    "    max(info.judge_matches.values()) / info.total_judges if info.total_judges and info.judge_matches else 0\n",
    "    for info in caselist_tab_map.values()\n",
    "])\n",
    "\n",
    "opponent_ratio = np.array([\n",
    "    max(info.opponent_matches.values()) / info.total_opponents if info.total_opponents and info.opponent_matches else 0\n",
    "    for info in caselist_tab_map.values()\n",
    "])\n",
    "\n",
    "judge_second_ratio = np.array([\n",
    "    ([0] + sorted(info.judge_matches.values()))[-2] / info.total_judges\n",
    "    for info in caselist_tab_map.values()\n",
    "    if len(info.caselist_single_judges) and info.judge_matches\n",
    "])\n",
    "\n",
    "opponent_second_ratio = np.array([\n",
    "    ([0] + sorted(info.opponent_matches.values()))[-2] / info.total_opponents\n",
    "    for info in caselist_tab_map.values()\n",
    "    if info.total_opponents and info.opponent_matches\n",
    "])\n",
    "values = list(caselist_tab_map.values())"
   ]
  },
  {
   "cell_type": "markdown",
   "source": [
    "((0.3917816813048933,\n",
    "  0.4712986198243413,\n",
    "  0.004495699765441751,\n",
    "  0.0362262183997915),\n",
    " (0.5850454830614805,\n",
    "  0.4037013801756587,\n",
    "  0.01763046544428773,\n",
    "  0.18106488011283497))"
   ],
   "metadata": {
    "collapsed": false
   }
  },
  {
   "cell_type": "code",
   "execution_count": 138,
   "metadata": {
    "collapsed": false,
    "ExecuteTime": {
     "end_time": "2023-06-23T16:46:11.637951900Z",
     "start_time": "2023-06-23T16:46:11.551834100Z"
    }
   },
   "outputs": [
    {
     "data": {
      "text/plain": "((0.3933108531994981,\n  0.4717299247176913,\n  0.004756629960252818,\n  0.036880172020590345),\n (0.6131195106649937,\n  0.46608375156838144,\n  0.035328003762050315,\n  0.2837996708205972))"
     },
     "execution_count": 138,
     "metadata": {},
     "output_type": "execute_result"
    }
   ],
   "source": [
    "((judge_ratio > 0.5).mean(), (judge_ratio > 0.2).mean(), (judge_second_ratio > 0.5).mean(), (judge_second_ratio > 0.2).mean()), \\\n",
    "    ((opponent_ratio > 0.2).mean(), (opponent_ratio > 0.8).mean(), (opponent_second_ratio > 0.8).mean(), (opponent_second_ratio > 0.2).mean())"
   ]
  },
  {
   "cell_type": "code",
   "execution_count": 139,
   "outputs": [
    {
     "data": {
      "text/plain": "((0.4717299247176913, 0.488237139272271),\n 0.595788895859473,\n 0.3641781681304893,\n 0.2316107277289837)"
     },
     "execution_count": 139,
     "metadata": {},
     "output_type": "execute_result"
    }
   ],
   "source": [
    "judge_match = judge_ratio > 0.2\n",
    "opponent_match = opponent_ratio > 0.75\n",
    "(judge_match.mean(), opponent_match.mean()), (judge_match + opponent_match).mean(), (judge_match * opponent_match).mean(), (judge_match ^ opponent_match).mean()"
   ],
   "metadata": {
    "collapsed": false,
    "ExecuteTime": {
     "end_time": "2023-06-23T16:46:17.292163400Z",
     "start_time": "2023-06-23T16:46:17.245582300Z"
    }
   }
  },
  {
   "cell_type": "code",
   "execution_count": 147,
   "outputs": [
    {
     "data": {
      "text/plain": "0.22710163111668757"
     },
     "execution_count": 147,
     "metadata": {},
     "output_type": "execute_result"
    }
   ],
   "source": [
    "only_match = np.array([info.only for info in caselist_tab_map.values()])\n",
    "only_match.mean()"
   ],
   "metadata": {
    "collapsed": false,
    "ExecuteTime": {
     "end_time": "2023-06-23T16:51:33.995991100Z",
     "start_time": "2023-06-23T16:51:33.951402100Z"
    }
   }
  },
  {
   "cell_type": "code",
   "execution_count": null,
   "outputs": [],
   "source": [
    "missing = [values[i]['teamId'] for i, found in enumerate(judge_ratio < 0.5) if not found]\n",
    "missing_data = caselist_data[caselist_data.teamId.isin(missing)]\n",
    "missing_data[(missing_data.year == 2018) & (missing_data.level == 'hs')]"
   ],
   "metadata": {
    "collapsed": false
   }
  },
  {
   "cell_type": "code",
   "execution_count": 141,
   "outputs": [],
   "source": [
    "def plot_gte(nums):\n",
    "    counts = pd.Series(nums).value_counts()\n",
    "    sums = np.cumsum(counts.sort_index()[::-1])[::-1]\n",
    "    plt.plot(sums)\n",
    "    plt.scatter(sums.index, sums)\n",
    "    return sums"
   ],
   "metadata": {
    "collapsed": false,
    "ExecuteTime": {
     "end_time": "2023-06-23T16:49:09.200006500Z",
     "start_time": "2023-06-23T16:49:09.188302700Z"
    }
   }
  },
  {
   "cell_type": "code",
   "execution_count": null,
   "outputs": [],
   "source": [
    "np.argmax(judge_ratio * np.array([info['total'] for info in values]))"
   ],
   "metadata": {
    "collapsed": false
   }
  },
  {
   "cell_type": "code",
   "execution_count": null,
   "metadata": {
    "collapsed": false
   },
   "outputs": [],
   "source": [
    "plt.hist([judge_ratio, opponent_ratio])"
   ]
  },
  {
   "cell_type": "code",
   "execution_count": 144,
   "outputs": [
    {
     "data": {
      "text/plain": "       judge  opponent\n0    25504.0   25504.0\n1    16113.0   17750.0\n2    12905.0   14981.0\n3    10717.0   12948.0\n4     9372.0   11598.0\n..       ...       ...\n165      NaN       5.0\n180      NaN       4.0\n187      NaN       3.0\n192      NaN       2.0\n198      NaN       1.0\n\n[143 rows x 2 columns]",
      "text/html": "<div>\n<style scoped>\n    .dataframe tbody tr th:only-of-type {\n        vertical-align: middle;\n    }\n\n    .dataframe tbody tr th {\n        vertical-align: top;\n    }\n\n    .dataframe thead th {\n        text-align: right;\n    }\n</style>\n<table border=\"1\" class=\"dataframe\">\n  <thead>\n    <tr style=\"text-align: right;\">\n      <th></th>\n      <th>judge</th>\n      <th>opponent</th>\n    </tr>\n  </thead>\n  <tbody>\n    <tr>\n      <th>0</th>\n      <td>25504.0</td>\n      <td>25504.0</td>\n    </tr>\n    <tr>\n      <th>1</th>\n      <td>16113.0</td>\n      <td>17750.0</td>\n    </tr>\n    <tr>\n      <th>2</th>\n      <td>12905.0</td>\n      <td>14981.0</td>\n    </tr>\n    <tr>\n      <th>3</th>\n      <td>10717.0</td>\n      <td>12948.0</td>\n    </tr>\n    <tr>\n      <th>4</th>\n      <td>9372.0</td>\n      <td>11598.0</td>\n    </tr>\n    <tr>\n      <th>...</th>\n      <td>...</td>\n      <td>...</td>\n    </tr>\n    <tr>\n      <th>165</th>\n      <td>NaN</td>\n      <td>5.0</td>\n    </tr>\n    <tr>\n      <th>180</th>\n      <td>NaN</td>\n      <td>4.0</td>\n    </tr>\n    <tr>\n      <th>187</th>\n      <td>NaN</td>\n      <td>3.0</td>\n    </tr>\n    <tr>\n      <th>192</th>\n      <td>NaN</td>\n      <td>2.0</td>\n    </tr>\n    <tr>\n      <th>198</th>\n      <td>NaN</td>\n      <td>1.0</td>\n    </tr>\n  </tbody>\n</table>\n<p>143 rows × 2 columns</p>\n</div>"
     },
     "execution_count": 144,
     "metadata": {},
     "output_type": "execute_result"
    },
    {
     "data": {
      "text/plain": "<Figure size 640x480 with 1 Axes>",
      "image/png": "[encoded data removed]"
     },
     "metadata": {},
     "output_type": "display_data"
    }
   ],
   "source": [
    "plt.xlim(0, 20)\n",
    "pd.DataFrame({\n",
    "    'judge': plot_gte([info.total_judges for info in caselist_tab_map.values()]),\n",
    "    'opponent': plot_gte([info.total_opponents for info in caselist_tab_map.values()])\n",
    "})"
   ],
   "metadata": {
    "collapsed": false,
    "ExecuteTime": {
     "end_time": "2023-06-23T16:50:18.818220300Z",
     "start_time": "2023-06-23T16:50:18.559736900Z"
    }
   }
  },
  {
   "cell_type": "code",
   "execution_count": 161,
   "outputs": [
    {
     "data": {
      "text/plain": "1     0.548887\n2     0.180096\n3     0.082887\n4     0.045277\n0     0.045062\n        ...   \n51    0.000008\n69    0.000008\n80    0.000008\n52    0.000008\n66    0.000008\nLength: 62, dtype: float64"
     },
     "execution_count": 161,
     "metadata": {},
     "output_type": "execute_result"
    }
   ],
   "source": [
    "pd.Series([len(s) for s in team_code_sets.values()]).value_counts() / len(team_code_sets)"
   ],
   "metadata": {
    "collapsed": false
   }
  },
  {
   "cell_type": "code",
   "execution_count": 145,
   "outputs": [],
   "source": [
    "only_missing_ids = [\n",
    "    (teamId, data.only_id)\n",
    "    for i, (teamId, data) in enumerate(caselist_tab_map.items())\n",
    "    if data.only and judge_ratio[i] < 0.2\n",
    "]"
   ],
   "metadata": {
    "collapsed": false,
    "ExecuteTime": {
     "end_time": "2023-06-23T16:50:35.468631100Z",
     "start_time": "2023-06-23T16:50:35.427741Z"
    }
   }
  },
  {
   "cell_type": "code",
   "execution_count": 35,
   "outputs": [
    {
     "data": {
      "text/plain": "      teamId     teamDisplayName  tabroomId\n0      48365  Arizona State MoBr       5289\n1      48369           Army SpMc       5292\n2      48376           Army ReOa       7063\n3      48389     Binghamton SmHe       9634\n4      48391     Binghamton ScBu       9680\n...      ...                 ...        ...\n2956   84735         Valley SoRa     178729\n2957   84744         Auburn FlGo     183237\n2958   84778         Kansas HiVu     227924\n2959   84782        Wyoming KnMe     228008\n2960   84792    ModernBrain JeAh     171572\n\n[2961 rows x 3 columns]",
      "text/html": "<div>\n<style scoped>\n    .dataframe tbody tr th:only-of-type {\n        vertical-align: middle;\n    }\n\n    .dataframe tbody tr th {\n        vertical-align: top;\n    }\n\n    .dataframe thead th {\n        text-align: right;\n    }\n</style>\n<table border=\"1\" class=\"dataframe\">\n  <thead>\n    <tr style=\"text-align: right;\">\n      <th></th>\n      <th>teamId</th>\n      <th>teamDisplayName</th>\n      <th>tabroomId</th>\n    </tr>\n  </thead>\n  <tbody>\n    <tr>\n      <th>0</th>\n      <td>48365</td>\n      <td>Arizona State MoBr</td>\n      <td>5289</td>\n    </tr>\n    <tr>\n      <th>1</th>\n      <td>48369</td>\n      <td>Army SpMc</td>\n      <td>5292</td>\n    </tr>\n    <tr>\n      <th>2</th>\n      <td>48376</td>\n      <td>Army ReOa</td>\n      <td>7063</td>\n    </tr>\n    <tr>\n      <th>3</th>\n      <td>48389</td>\n      <td>Binghamton SmHe</td>\n      <td>9634</td>\n    </tr>\n    <tr>\n      <th>4</th>\n      <td>48391</td>\n      <td>Binghamton ScBu</td>\n      <td>9680</td>\n    </tr>\n    <tr>\n      <th>...</th>\n      <td>...</td>\n      <td>...</td>\n      <td>...</td>\n    </tr>\n    <tr>\n      <th>2956</th>\n      <td>84735</td>\n      <td>Valley SoRa</td>\n      <td>178729</td>\n    </tr>\n    <tr>\n      <th>2957</th>\n      <td>84744</td>\n      <td>Auburn FlGo</td>\n      <td>183237</td>\n    </tr>\n    <tr>\n      <th>2958</th>\n      <td>84778</td>\n      <td>Kansas HiVu</td>\n      <td>227924</td>\n    </tr>\n    <tr>\n      <th>2959</th>\n      <td>84782</td>\n      <td>Wyoming KnMe</td>\n      <td>228008</td>\n    </tr>\n    <tr>\n      <th>2960</th>\n      <td>84792</td>\n      <td>ModernBrain JeAh</td>\n      <td>171572</td>\n    </tr>\n  </tbody>\n</table>\n<p>2961 rows × 3 columns</p>\n</div>"
     },
     "execution_count": 35,
     "metadata": {},
     "output_type": "execute_result"
    }
   ],
   "source": [
    "caselist_ids = [data[0] for data in only_missing_ids]\n",
    "tabroom_ids = [data[1] for data in only_missing_ids]\n",
    "\n",
    "only_missing_data = caselist_team_data.loc[caselist_ids].teamDisplayName.reset_index()\n",
    "only_missing_data['tabroomId'] = pd.Series(tabroom_ids)\n",
    "only_missing_data"
   ],
   "metadata": {
    "collapsed": false,
    "ExecuteTime": {
     "end_time": "2023-05-30T12:11:55.950233Z",
     "start_time": "2023-05-30T12:11:55.887458500Z"
    }
   }
  },
  {
   "cell_type": "code",
   "execution_count": 44,
   "outputs": [
    {
     "data": {
      "text/plain": "  0%|          | 0/2961 [00:00<?, ?it/s]",
      "application/vnd.jupyter.widget-view+json": {
       "version_major": 2,
       "version_minor": 0,
       "model_id": "c4dd13f6d66e462997ba5e1a972411a7"
      }
     },
     "metadata": {},
     "output_type": "display_data"
    }
   ],
   "source": [
    "tabroom_names = []\n",
    "with tabEngine.begin() as conn:\n",
    "    for i, tab_team_id in enumerate(tqdm(tabroom_ids)):\n",
    "        q = entry_table\\\n",
    "                .join(team_table, team_table.c.id == entry_table.c.team)\\\n",
    "                .select().where(team_table.c.id == tab_team_id)\n",
    "        tabroom_names.append(conn.execute(q).mappings().first()['code'])"
   ],
   "metadata": {
    "collapsed": false,
    "ExecuteTime": {
     "end_time": "2023-05-30T12:27:23.597807200Z",
     "start_time": "2023-05-30T12:27:14.609539800Z"
    }
   }
  },
  {
   "cell_type": "code",
   "execution_count": 46,
   "outputs": [
    {
     "data": {
      "text/plain": "      teamId     teamDisplayName  tabroomId                tabroomName\n0      48365  Arizona State MoBr       5289                    USMA BM\n1      48369           Army SpMc       5292                    USMA MS\n2      48376           Army ReOa       7063                  UniSta OR\n3      48389     Binghamton SmHe       9634              Binghamton HS\n4      48391     Binghamton ScBu       9680              Binghamton SB\n...      ...                 ...        ...                        ...\n2956   84735         Valley SoRa     178729  West Des Moines Valley SR\n2957   84744         Auburn FlGo     183237                  Auburn FG\n2958   84778         Kansas HiVu     227924          Kansas Hines & Vu\n2959   84782        Wyoming KnMe     228008     Wyoming Knopp & Medina\n2960   84792    ModernBrain JeAh     171572             ModernBrain JA\n\n[2961 rows x 4 columns]",
      "text/html": "<div>\n<style scoped>\n    .dataframe tbody tr th:only-of-type {\n        vertical-align: middle;\n    }\n\n    .dataframe tbody tr th {\n        vertical-align: top;\n    }\n\n    .dataframe thead th {\n        text-align: right;\n    }\n</style>\n<table border=\"1\" class=\"dataframe\">\n  <thead>\n    <tr style=\"text-align: right;\">\n      <th></th>\n      <th>teamId</th>\n      <th>teamDisplayName</th>\n      <th>tabroomId</th>\n      <th>tabroomName</th>\n    </tr>\n  </thead>\n  <tbody>\n    <tr>\n      <th>0</th>\n      <td>48365</td>\n      <td>Arizona State MoBr</td>\n      <td>5289</td>\n      <td>USMA BM</td>\n    </tr>\n    <tr>\n      <th>1</th>\n      <td>48369</td>\n      <td>Army SpMc</td>\n      <td>5292</td>\n      <td>USMA MS</td>\n    </tr>\n    <tr>\n      <th>2</th>\n      <td>48376</td>\n      <td>Army ReOa</td>\n      <td>7063</td>\n      <td>UniSta OR</td>\n    </tr>\n    <tr>\n      <th>3</th>\n      <td>48389</td>\n      <td>Binghamton SmHe</td>\n      <td>9634</td>\n      <td>Binghamton HS</td>\n    </tr>\n    <tr>\n      <th>4</th>\n      <td>48391</td>\n      <td>Binghamton ScBu</td>\n      <td>9680</td>\n      <td>Binghamton SB</td>\n    </tr>\n    <tr>\n      <th>...</th>\n      <td>...</td>\n      <td>...</td>\n      <td>...</td>\n      <td>...</td>\n    </tr>\n    <tr>\n      <th>2956</th>\n      <td>84735</td>\n      <td>Valley SoRa</td>\n      <td>178729</td>\n      <td>West Des Moines Valley SR</td>\n    </tr>\n    <tr>\n      <th>2957</th>\n      <td>84744</td>\n      <td>Auburn FlGo</td>\n      <td>183237</td>\n      <td>Auburn FG</td>\n    </tr>\n    <tr>\n      <th>2958</th>\n      <td>84778</td>\n      <td>Kansas HiVu</td>\n      <td>227924</td>\n      <td>Kansas Hines &amp; Vu</td>\n    </tr>\n    <tr>\n      <th>2959</th>\n      <td>84782</td>\n      <td>Wyoming KnMe</td>\n      <td>228008</td>\n      <td>Wyoming Knopp &amp; Medina</td>\n    </tr>\n    <tr>\n      <th>2960</th>\n      <td>84792</td>\n      <td>ModernBrain JeAh</td>\n      <td>171572</td>\n      <td>ModernBrain JA</td>\n    </tr>\n  </tbody>\n</table>\n<p>2961 rows × 4 columns</p>\n</div>"
     },
     "execution_count": 46,
     "metadata": {},
     "output_type": "execute_result"
    }
   ],
   "source": [
    "only_missing_data['tabroomName'] = pd.Series(tabroom_names)\n",
    "only_missing_data"
   ],
   "metadata": {
    "collapsed": false,
    "ExecuteTime": {
     "end_time": "2023-05-30T12:27:41.688945300Z",
     "start_time": "2023-05-30T12:27:41.598091200Z"
    }
   }
  },
  {
   "cell_type": "code",
   "execution_count": 148,
   "outputs": [
    {
     "data": {
      "text/plain": "(0.689930991217064, 0.41483688833124216)"
     },
     "execution_count": 148,
     "metadata": {},
     "output_type": "execute_result"
    }
   ],
   "source": [
    "weak_matched = judge_match + opponent_match + only_match\n",
    "strong_matched = (judge_match.astype(int) + opponent_match.astype(int) + only_match.astype(int)) >= 2\n",
    "weak_matched.mean(), strong_matched.mean()"
   ],
   "metadata": {
    "collapsed": false,
    "ExecuteTime": {
     "end_time": "2023-06-23T16:51:43.267739400Z",
     "start_time": "2023-06-23T16:51:43.185803300Z"
    }
   }
  },
  {
   "cell_type": "code",
   "execution_count": 149,
   "outputs": [],
   "source": [
    "matched = strong_matched\n",
    "matched_info = [values[i] for i, is_match in enumerate(matched) if is_match]\n",
    "matched_caselist_ids = [info.caselist_id for info in matched_info]"
   ],
   "metadata": {
    "collapsed": false,
    "ExecuteTime": {
     "end_time": "2023-06-23T16:52:12.582789100Z",
     "start_time": "2023-06-23T16:52:12.564091300Z"
    }
   }
  },
  {
   "cell_type": "code",
   "execution_count": 150,
   "outputs": [
    {
     "data": {
      "text/plain": "(0.41483688833124216, 0.7665856336260979)"
     },
     "execution_count": 150,
     "metadata": {},
     "output_type": "execute_result"
    }
   ],
   "source": [
    "matched_school_ids = set(caselist_team_data.loc[matched_caselist_ids].schoolId)\n",
    "matched_school_teams = caselist_team_data[caselist_team_data.schoolId.isin(matched_school_ids)]\n",
    "len(matched_caselist_ids) / len(caselist_team_data), len(matched_school_teams) / len(caselist_team_data)"
   ],
   "metadata": {
    "collapsed": false,
    "ExecuteTime": {
     "end_time": "2023-06-23T16:52:29.088693100Z",
     "start_time": "2023-06-23T16:52:29.009965200Z"
    }
   }
  },
  {
   "cell_type": "code",
   "execution_count": 201,
   "outputs": [
    {
     "data": {
      "text/plain": "(0.0, 22471.05)"
     },
     "execution_count": 201,
     "metadata": {},
     "output_type": "execute_result"
    },
    {
     "data": {
      "text/plain": "<Figure size 640x480 with 1 Axes>",
      "image/png": "[encoded data removed]"
     },
     "metadata": {},
     "output_type": "display_data"
    }
   ],
   "source": [
    "plt.plot(len(caselist_team_data) - np.cumsum(caselist_data.teamId.value_counts().value_counts().sort_index()))\n",
    "plt.xlim(0, 50)\n",
    "plt.ylim(0)"
   ],
   "metadata": {
    "collapsed": false,
    "ExecuteTime": {
     "end_time": "2023-05-31T16:47:57.849643500Z",
     "start_time": "2023-05-31T16:47:57.603451100Z"
    }
   }
  },
  {
   "cell_type": "code",
   "execution_count": 187,
   "outputs": [
    {
     "data": {
      "text/plain": "1     2683\n2     1212\n3      764\n4      510\n5      405\n6      301\n7      209\n8      169\n9      122\n10     102\n11      75\n14      53\n13      52\n12      51\n16      39\n15      31\n17      23\n18      19\n19      19\n20      17\n24      11\n23      10\n22       9\n21       8\n27       6\n28       6\n26       5\n30       4\n36       4\n35       3\n25       2\n29       2\n39       1\n42       1\n45       1\nName: schoolId, dtype: int64"
     },
     "execution_count": 187,
     "metadata": {},
     "output_type": "execute_result"
    }
   ],
   "source": [
    "caselist_team_data.schoolId.value_counts().value_counts()"
   ],
   "metadata": {
    "collapsed": false,
    "ExecuteTime": {
     "end_time": "2023-05-31T16:42:58.884036400Z",
     "start_time": "2023-05-31T16:42:58.807414900Z"
    }
   }
  },
  {
   "cell_type": "code",
   "execution_count": 34,
   "outputs": [],
   "source": [
    "tournament_counts = caselist_data.groupby('teamId').tournament.aggregate(lambda t: t.nunique())"
   ],
   "metadata": {
    "collapsed": false,
    "ExecuteTime": {
     "end_time": "2023-06-05T11:56:25.345995500Z",
     "start_time": "2023-06-05T11:56:23.525791500Z"
    }
   }
  },
  {
   "cell_type": "code",
   "execution_count": 44,
   "outputs": [
    {
     "data": {
      "text/plain": "1     25504\n2     16884\n3     12225\n4      9579\n5      7839\n6      6412\n7      5329\n8      4362\n9      3616\n10     2944\n11     2347\n12     1879\n13     1469\n14     1144\n15      902\n16      695\n17      531\n18      403\n19      284\n20      220\n21      163\n22      105\n23       77\n24       66\n25       44\n26       31\n27       20\n28       16\n29       14\n30        8\n31        4\n35        3\n47        2\n50        1\nName: tournament, dtype: int64"
     },
     "execution_count": 44,
     "metadata": {},
     "output_type": "execute_result"
    },
    {
     "data": {
      "text/plain": "<Figure size 640x480 with 1 Axes>",
      "image/png": "[encoded data removed]"
     },
     "metadata": {},
     "output_type": "display_data"
    }
   ],
   "source": [
    "plt.xlim(0, 20)\n",
    "plot_gte(tournament_counts)"
   ],
   "metadata": {
    "collapsed": false,
    "ExecuteTime": {
     "end_time": "2023-06-05T11:59:35.344533300Z",
     "start_time": "2023-06-05T11:59:35.217249400Z"
    }
   }
  },
  {
   "cell_type": "code",
   "execution_count": 49,
   "outputs": [
    {
     "data": {
      "text/plain": "0.4434990589711418"
     },
     "execution_count": 49,
     "metadata": {},
     "output_type": "execute_result"
    }
   ],
   "source": [
    "caselist_data[caselist_data.fileName.notna()].teamId.nunique() / caselist_data.teamId.nunique()"
   ],
   "metadata": {
    "collapsed": false,
    "ExecuteTime": {
     "end_time": "2023-06-20T17:51:28.648734500Z",
     "start_time": "2023-06-20T17:51:27.807780100Z"
    }
   }
  },
  {
   "cell_type": "code",
   "execution_count": null,
   "outputs": [],
   "source": [],
   "metadata": {
    "collapsed": false
   }
  },
  {
   "cell_type": "code",
   "execution_count": 55,
   "outputs": [],
   "source": [
    "full_names = caselist_data.fileName.str.split('-').apply(lambda l: l[1:-3] if l else None)"
   ],
   "metadata": {
    "collapsed": false,
    "ExecuteTime": {
     "end_time": "2023-06-20T18:05:48.481682700Z",
     "start_time": "2023-06-20T18:05:46.974022500Z"
    }
   }
  },
  {
   "cell_type": "code",
   "execution_count": 54,
   "outputs": [
    {
     "data": {
      "text/plain": "0         None\n1         None\n2         None\n3         None\n4         None\n          ... \n338516    None\n338517    None\n338518    None\n338519    None\n338520    None\nName: fileName, Length: 338521, dtype: object"
     },
     "execution_count": 54,
     "metadata": {},
     "output_type": "execute_result"
    }
   ],
   "source": [
    "caselist_data.apply()"
   ],
   "metadata": {
    "collapsed": false,
    "ExecuteTime": {
     "end_time": "2023-06-20T18:05:10.285479900Z",
     "start_time": "2023-06-20T18:05:09.305686500Z"
    }
   }
  },
  {
   "cell_type": "markdown",
   "source": [
    "## Analyze teams"
   ],
   "metadata": {
    "collapsed": false
   }
  },
  {
   "cell_type": "code",
   "execution_count": null,
   "outputs": [],
   "source": [
    "team_counts = Counter({k: len(v) for k, v in team_code_sets.items()})\n",
    "team_counts.most_common(100)"
   ],
   "metadata": {
    "collapsed": false
   }
  },
  {
   "cell_type": "code",
   "execution_count": 20,
   "outputs": [],
   "source": [
    "team_codes: dict[int, set[str]] = {}\n",
    "for code, teams in team_code_sets.items():\n",
    "    for team_id in teams:\n",
    "        if not team_id in team_codes: team_codes[team_id] = set()\n",
    "        team_codes[team_id].add(code)"
   ],
   "metadata": {
    "collapsed": false
   }
  },
  {
   "cell_type": "code",
   "execution_count": 21,
   "outputs": [],
   "source": [
    "team_code_counts = Counter({team: len(codes) for team, codes in team_codes.items()})"
   ],
   "metadata": {
    "collapsed": false
   }
  },
  {
   "cell_type": "code",
   "execution_count": null,
   "outputs": [],
   "source": [
    "(np.array(list(team_code_counts.values())) ** 2).mean(), (np.array(list(team_counts.values())) ** 2).mean()"
   ],
   "metadata": {
    "collapsed": false
   }
  }
 ],
 "metadata": {
  "kernelspec": {
   "display_name": "Python 3",
   "language": "python",
   "name": "python3"
  },
  "language_info": {
   "codemirror_mode": {
    "name": "ipython",
    "version": 3
   },
   "file_extension": ".py",
   "mimetype": "text/x-python",
   "name": "python",
   "nbconvert_exporter": "python",
   "pygments_lexer": "ipython3",
   "version": "3.10.10"
  }
 },
 "nbformat": 4,
 "nbformat_minor": 0
}
