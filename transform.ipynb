{
 "cells": [
  {
   "cell_type": "code",
   "execution_count": 66,
   "outputs": [],
   "source": [
    "import itertools\n",
    "import re\n",
    "import numpy as np\n",
    "from tqdm.notebook import tqdm\n",
    "from tabDatabase import *\n",
    "import matplotlib.pyplot as plt\n",
    "import pandas as pd\n",
    "import json\n",
    "from sqlalchemy import Connection, select, update, bindparam\n",
    "\n",
    "total_entries = 615613\n",
    "caselist_total = 338521\n",
    "metadata.create_all(tabEngine)\n",
    "pd.set_option(\"display.max_columns\", None)\n",
    "# pd.set_option(\"display.max_rows\", 20)\n",
    "tqdm.pandas()"
   ],
   "metadata": {
    "collapsed": false,
    "ExecuteTime": {
     "end_time": "2023-06-05T17:07:01.598500200Z",
     "start_time": "2023-06-05T17:07:01.510059800Z"
    }
   }
  },
  {
   "attachments": {},
   "cell_type": "markdown",
   "metadata": {
    "collapsed": false
   },
   "source": [
    "# Create Teams"
   ]
  },
  {
   "cell_type": "code",
   "execution_count": 44,
   "metadata": {
    "collapsed": false,
    "ExecuteTime": {
     "end_time": "2023-05-29T01:31:40.994929300Z",
     "start_time": "2023-05-29T01:31:40.987913600Z"
    }
   },
   "outputs": [],
   "source": [
    "def get_team_values(row_group):\n",
    "    students = [record[2] for record in row_group]\n",
    "    num_debaters = len(students)\n",
    "    students += [None] * (5 - len(students)) # when negative ignores\n",
    "    return { f\"debater{i + 1}\": students[i] for i in range(5) } | {\n",
    "        \"other_debaters\":  ','.join(map(str, students[5:])) if len(students) > 5 else None,\n",
    "        \"num_debaters\": num_debaters\n",
    "    }"
   ]
  },
  {
   "cell_type": "code",
   "execution_count": 45,
   "metadata": {
    "collapsed": false,
    "ExecuteTime": {
     "end_time": "2023-05-29T01:31:41.666807900Z",
     "start_time": "2023-05-29T01:31:41.649811Z"
    }
   },
   "outputs": [],
   "source": [
    "def chunked_iterable(iterable, size):\n",
    "    it = iter(iterable)\n",
    "    while True:\n",
    "        s = list(itertools.islice(it, size))\n",
    "        if not s: break\n",
    "        yield s"
   ]
  },
  {
   "cell_type": "code",
   "execution_count": null,
   "metadata": {
    "collapsed": false,
    "pycharm": {
     "is_executing": true
    }
   },
   "outputs": [],
   "source": [
    "from sqlalchemy.dialects.sqlite import insert\n",
    "\n",
    "with tabEngine.connect() as conn:\n",
    "    query = entry_student_table.select().order_by('entry', 'student')\n",
    "    entry_groups = conn.execute(query)\n",
    "\n",
    "data = tqdm((\n",
    "    (entry, get_team_values(group))\n",
    "    for entry, group in itertools.groupby(entry_groups, lambda x: x[1])\n",
    "), total=total_entries)\n",
    "\n",
    "chunk_size = 10000\n",
    "for chunk in chunked_iterable(data, chunk_size):\n",
    "    with tabEngine.begin() as conn:\n",
    "        values = [record[1] for record in chunk]\n",
    "        stmt = insert(team_table)\n",
    "        stmt = stmt.on_conflict_do_update(index_elements=team_unique, set_=team_table.c) # Do dummy update so id is returned\n",
    "        stmt = stmt.returning(team_table.c.id)\n",
    "\n",
    "        teams = (value[0] for value in conn.execute(stmt, values))\n",
    "        entries = (record[0] for record in chunk)\n",
    "\n",
    "        for entry, team_id in zip(entries, teams):\n",
    "            conn.execute(entry_table.update().where(entry_table.c.id == entry).values({'team': team_id}))\n"
   ]
  },
  {
   "cell_type": "code",
   "execution_count": 40,
   "metadata": {
    "collapsed": false
   },
   "outputs": [],
   "source": [
    "# with engine.begin() as con:\n",
    "#     con.execute(team_table.delete())\n",
    "#     con.execute(entry_table.update().values({'team': None}))"
   ]
  },
  {
   "attachments": {},
   "cell_type": "markdown",
   "metadata": {
    "collapsed": false
   },
   "source": []
  },
  {
   "cell_type": "markdown",
   "source": [
    "# Add short codes and schools"
   ],
   "metadata": {
    "collapsed": false
   }
  },
  {
   "cell_type": "code",
   "execution_count": 3,
   "outputs": [
    {
     "data": {
      "text/plain": "0it [00:00, ?it/s]",
      "application/vnd.jupyter.widget-view+json": {
       "version_major": 2,
       "version_minor": 0,
       "model_id": "940999daafc3471182520432280a42ad"
      }
     },
     "metadata": {},
     "output_type": "display_data"
    }
   ],
   "source": [
    "with tabEngine.begin() as conn:\n",
    "    q = select(entry_table.c.id, entry_table.c.code).where(entry_table.c.code.regexp_match(r'.*\\s[a-zA-Z]{2}$'))\n",
    "    code_info = [\n",
    "        {'entry_id': i, 'short_code': code[-2:].upper(), 'school_name': code[:-3]}\n",
    "        for i, code in tqdm(conn.execute(q))\n",
    "    ]\n",
    "\n",
    "    insert_q = update(entry_table)\\\n",
    "        .where(entry_table.c.id == bindparam('entry_id'))\\\n",
    "        .values({'short_code': bindparam('short_code'), 'school_name': bindparam('school_name')})\n",
    "    conn.execute(insert_q, code_info)"
   ],
   "metadata": {
    "collapsed": false,
    "ExecuteTime": {
     "end_time": "2023-06-02T13:46:15.914900600Z",
     "start_time": "2023-06-02T13:45:53.917391200Z"
    }
   }
  }
 ],
 "metadata": {
  "kernelspec": {
   "display_name": "Python 3",
   "language": "python",
   "name": "python3"
  },
  "language_info": {
   "codemirror_mode": {
    "name": "ipython",
    "version": 3
   },
   "file_extension": ".py",
   "mimetype": "text/x-python",
   "name": "python",
   "nbconvert_exporter": "python",
   "pygments_lexer": "ipython3",
   "version": "3.10.10"
  }
 },
 "nbformat": 4,
 "nbformat_minor": 0
}
