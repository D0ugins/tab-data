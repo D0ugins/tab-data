{
 "cells": [
  {
   "cell_type": "code",
   "execution_count": 404,
   "outputs": [],
   "source": [
    "import itertools\n",
    "import re\n",
    "\n",
    "import numpy as np\n",
    "from matplotlib import pyplot as plt\n",
    "from tqdm.notebook import tqdm\n",
    "from tabDatabase import *\n",
    "import pandas as pd\n",
    "from sqlalchemy import select, update, bindparam\n",
    "from shortname import short_school_name, chapter_code\n",
    "\n",
    "total_entries = 1967409\n",
    "total_entries_with_students = 615613\n",
    "caselist_total = 338521\n",
    "metadata.create_all(tabEngine)\n",
    "pd.set_option(\"display.max_columns\", None)\n",
    "# pd.set_option(\"display.max_rows\", 20)\n",
    "tqdm.pandas()"
   ],
   "metadata": {
    "collapsed": false,
    "ExecuteTime": {
     "end_time": "2023-06-18T22:57:49.926852200Z",
     "start_time": "2023-06-18T22:57:49.888485500Z"
    }
   }
  },
  {
   "cell_type": "code",
   "execution_count": 403,
   "outputs": [],
   "source": [
    "# %load_ext autoreload\n",
    "%autoreload"
   ],
   "metadata": {
    "collapsed": false,
    "ExecuteTime": {
     "end_time": "2023-06-18T22:57:49.286196100Z",
     "start_time": "2023-06-18T22:57:49.194641600Z"
    }
   }
  },
  {
   "attachments": {},
   "cell_type": "markdown",
   "metadata": {
    "collapsed": false
   },
   "source": [
    "# Create Teams"
   ]
  },
  {
   "cell_type": "code",
   "execution_count": 2,
   "metadata": {
    "collapsed": false,
    "ExecuteTime": {
     "end_time": "2023-06-16T16:31:12.274754900Z",
     "start_time": "2023-06-16T16:31:12.233230700Z"
    }
   },
   "outputs": [],
   "source": [
    "def get_team_values(row_group):\n",
    "    students = [record[2] for record in row_group]\n",
    "    num_debaters = len(students)\n",
    "    students += [None] * (5 - len(students)) # when negative ignores\n",
    "    return { f\"debater{i + 1}\": students[i] for i in range(5) } | {\n",
    "        \"other_debaters\":  ','.join(map(str, students[5:])) if len(students) > 5 else None,\n",
    "        \"num_debaters\": num_debaters\n",
    "    }"
   ]
  },
  {
   "cell_type": "code",
   "execution_count": 45,
   "metadata": {
    "collapsed": false,
    "ExecuteTime": {
     "end_time": "2023-05-29T01:31:41.666807900Z",
     "start_time": "2023-05-29T01:31:41.649811Z"
    }
   },
   "outputs": [],
   "source": [
    "def chunked_iterable(iterable, size):\n",
    "    it = iter(iterable)\n",
    "    while True:\n",
    "        s = list(itertools.islice(it, size))\n",
    "        if not s: break\n",
    "        yield s"
   ]
  },
  {
   "cell_type": "code",
   "execution_count": null,
   "metadata": {
    "collapsed": false,
    "pycharm": {
     "is_executing": true
    }
   },
   "outputs": [],
   "source": [
    "from sqlalchemy.dialects.sqlite import insert\n",
    "\n",
    "with tabEngine.connect() as conn:\n",
    "    query = entry_student_table.select().order_by('entry', 'student')\n",
    "    entry_groups = conn.execute(query)\n",
    "\n",
    "data = tqdm((\n",
    "    (entry, get_team_values(group))\n",
    "    for entry, group in itertools.groupby(entry_groups, lambda x: x[1])\n",
    "), total=total_entries_with_students)\n",
    "\n",
    "chunk_size = 10000\n",
    "for chunk in chunked_iterable(data, chunk_size):\n",
    "    with tabEngine.begin() as conn:\n",
    "        values = [record[1] for record in chunk]\n",
    "        stmt = insert(team_table)\n",
    "        stmt = stmt.on_conflict_do_update(index_elements=team_unique, set_=team_table.c) # Do dummy update so id is returned\n",
    "        stmt = stmt.returning(team_table.c.id)\n",
    "\n",
    "        teams = (value[0] for value in conn.execute(stmt, values))\n",
    "        entries = (record[0] for record in chunk)\n",
    "\n",
    "        for entry, team_id in zip(entries, teams):\n",
    "            conn.execute(entry_table.update().where(entry_table.c.id == entry).values({'team': team_id}))\n"
   ]
  },
  {
   "cell_type": "code",
   "execution_count": 40,
   "metadata": {
    "collapsed": false
   },
   "outputs": [],
   "source": [
    "# with engine.begin() as con:\n",
    "#     con.execute(team_table.delete())\n",
    "#     con.execute(entry_table.update().values({'team': None}))"
   ]
  },
  {
   "attachments": {},
   "cell_type": "markdown",
   "metadata": {
    "collapsed": false
   },
   "source": []
  },
  {
   "cell_type": "markdown",
   "source": [
    "# Add short codes and schools"
   ],
   "metadata": {
    "collapsed": false
   }
  },
  {
   "cell_type": "code",
   "execution_count": 298,
   "outputs": [],
   "source": [
    "def getSections(entry_name: str) -> list[str]:\n",
    "    if ' - ' in entry_name and ' and ' in entry_name: # Some were formatted like this before 2015-2016 season\n",
    "        entry_name = entry_name.split(' - ')[1]\n",
    "    sections = re.split(r', | & | and ', entry_name)\n",
    "    return [s.strip() for s in sections if s.strip()] # Filter out empty and trim"
   ],
   "metadata": {
    "collapsed": false,
    "ExecuteTime": {
     "end_time": "2023-06-18T20:38:26.581019Z",
     "start_time": "2023-06-18T20:38:26.573768300Z"
    }
   }
  },
  {
   "cell_type": "code",
   "execution_count": 299,
   "outputs": [],
   "source": [
    "def getShortName(entry_name: str) -> str | None:\n",
    "    \"\"\"Convert entry name to short name. Sorts short name for teams with 2 people\"\"\"\n",
    "    if entry_name is None: return None\n",
    "    if re.match(r'Entry \\d+', entry_name): return None\n",
    "\n",
    "    sections = getSections(entry_name)\n",
    "    if len(sections) == 1: sections = sections[0].split(' ') # For single person teams split by first and last\n",
    "    else: sections = sorted(sections) # Normalize team names to be sorted\n",
    "\n",
    "    if len(sections) != 2: return None\n",
    "\n",
    "    short_name = sections[0][0] + sections[1][0]\n",
    "    return short_name if short_name.isupper() else None"
   ],
   "metadata": {
    "collapsed": false,
    "ExecuteTime": {
     "end_time": "2023-06-18T20:38:27.908112100Z",
     "start_time": "2023-06-18T20:38:27.841260100Z"
    }
   }
  },
  {
   "cell_type": "code",
   "execution_count": 300,
   "outputs": [],
   "source": [
    "def getSchool(entry_code: str, entry_name: str) -> str | int | float:\n",
    "    \"\"\"Get school from entry code. Uses entry_name to identify names in code\"\"\"\n",
    "    if entry_code is None or entry_name is None: return 1\n",
    "    entry_code = entry_code.strip()\n",
    "    entry_name = entry_name.strip()\n",
    "    name_sections = [re.escape(section) for section in getSections(entry_name)]\n",
    "\n",
    "    # numbers\n",
    "    if ' ' not in entry_code: return 2\n",
    "    # names (single person), last_names (single person)\n",
    "    if entry_code in entry_name: return 3\n",
    "    if len(name_sections) == 1:\n",
    "        split = entry_code.split(', ')\n",
    "        # names_lastfirst (single person)\n",
    "        if len(split) == 2 and split[0] in entry_name and split[1] in entry_name: return 4.1\n",
    "    else:\n",
    "        # last_names (multiple person)\n",
    "        if entry_code == ' & '.join(name_sections): return 5\n",
    "        # names (multiple person) *Also filters school_names (multiple person)\n",
    "        if re.fullmatch(' & '.join([fr'(.+ {section})' for section in name_sections]), entry_code): return 6\n",
    "        # names_lastfirst (multiple person)\n",
    "        if re.fullmatch(' & '.join([fr'({section}, .+)' for section in name_sections]), entry_code): return 4.2\n",
    "\n",
    "    code_patterns = [\n",
    "        r'\\d+', # school_number, schoolname_code\n",
    "        r'[A-Z]{2}', # initials, full_initials\n",
    "        re.escape(entry_name), # school_names  (single person)\n",
    "        ' & '.join(name_sections) # code_name, school_last_names (multiple person)\n",
    "    ]\n",
    "    # school_last_names (single person), school_first_name (single person)\n",
    "    if len(name_sections) == 1:\n",
    "        names = entry_name.split(' ')\n",
    "        if len(names) == 2: code_patterns += [re.escape(n) for n in names]\n",
    "\n",
    "    # print(fr'^(.*?) ({\"|\".join(code_patterns)})$')\n",
    "    match = re.fullmatch(fr'(.*?) ({\"|\".join(code_patterns)})', entry_code)\n",
    "    # Should filter school_name_only, school_first_names (multiple person)\n",
    "    # If register I cry\n",
    "    if match is None: return 7\n",
    "\n",
    "    school = match.group(1).strip()\n",
    "    if re.fullmatch('\\d+|[A-Z]{1,2}|[A-Z]{1,2} \\d+', school): return 8 # Filter incremental school codes\n",
    "    if not school: return 9\n",
    "    return school"
   ],
   "metadata": {
    "collapsed": false,
    "ExecuteTime": {
     "end_time": "2023-06-18T20:38:29.579930600Z",
     "start_time": "2023-06-18T20:38:29.524288900Z"
    }
   }
  },
  {
   "cell_type": "code",
   "execution_count": 321,
   "outputs": [
    {
     "data": {
      "text/plain": "  0%|          | 0/1967409 [00:00<?, ?it/s]",
      "application/vnd.jupyter.widget-view+json": {
       "version_major": 2,
       "version_minor": 0,
       "model_id": "c0866200177d4f0f9d318b8a1b72e45b"
      }
     },
     "metadata": {},
     "output_type": "display_data"
    }
   ],
   "source": [
    "from collections import Counter\n",
    "import numbers\n",
    "\n",
    "data = []\n",
    "errors = Counter()\n",
    "with tabEngine.begin() as conn:\n",
    "    q = select(entry_table.c.id, entry_table.c.name, entry_table.c.code, entry_table.c.team)\n",
    "    for entry_id, name, code, team in tqdm(conn.execute(q), total=total_entries):\n",
    "        school = getSchool(code, name)\n",
    "        if isinstance(school, numbers.Number):\n",
    "            errors[school] += 1\n",
    "            school = None\n",
    "        data.append({\n",
    "            'id': entry_id,\n",
    "            'name': name,\n",
    "            'short_name': getShortName(name),\n",
    "            'code': code,\n",
    "            'school_name': school,\n",
    "            'team': team\n",
    "        })\n",
    "entries = pd.DataFrame(data)\n",
    "data = None\n"
   ],
   "metadata": {
    "collapsed": false,
    "ExecuteTime": {
     "end_time": "2023-06-18T21:04:52.452164300Z",
     "start_time": "2023-06-18T20:58:17.354844Z"
    }
   }
  },
  {
   "cell_type": "code",
   "execution_count": 381,
   "outputs": [
    {
     "data": {
      "text/plain": "(0.922141252784754, 0.4026503894208068)"
     },
     "execution_count": 381,
     "metadata": {},
     "output_type": "execute_result"
    }
   ],
   "source": [
    "entries.short_name.notna().mean(), entries.school_name.notna().mean()"
   ],
   "metadata": {
    "collapsed": false,
    "ExecuteTime": {
     "end_time": "2023-06-18T22:47:38.945576200Z",
     "start_time": "2023-06-18T22:47:38.608839300Z"
    }
   }
  },
  {
   "cell_type": "code",
   "execution_count": 388,
   "outputs": [
    {
     "data": {
      "text/plain": "  0%|          | 0/1967409 [00:00<?, ?it/s]",
      "application/vnd.jupyter.widget-view+json": {
       "version_major": 2,
       "version_minor": 0,
       "model_id": "9890599894104d9f8b9247997d62acc3"
      }
     },
     "metadata": {},
     "output_type": "display_data"
    }
   ],
   "source": [
    "entries['school_code'] = entries.school_name.progress_apply(lambda s: chapter_code(short_school_name(s)))"
   ],
   "metadata": {
    "collapsed": false,
    "ExecuteTime": {
     "end_time": "2023-06-18T22:53:05.371770800Z",
     "start_time": "2023-06-18T22:52:56.159655800Z"
    }
   }
  },
  {
   "cell_type": "code",
   "execution_count": null,
   "outputs": [],
   "source": [
    "# entries['short_school_name'] = entries.school_name.progress_apply(short_school_name)\n",
    "# entries['chapter_code'] = entries.school_name.progress_apply(chapter_code)\n",
    "# entries['short_school_name_code'] = entries.school_name.progress_apply(lambda s: chapter_code(short_school_name(s)))"
   ],
   "metadata": {
    "collapsed": false
   }
  },
  {
   "cell_type": "code",
   "execution_count": 380,
   "outputs": [],
   "source": [
    "entries.to_feather('./data/entries.feather')"
   ],
   "metadata": {
    "collapsed": false,
    "ExecuteTime": {
     "end_time": "2023-06-18T22:47:34.232874200Z",
     "start_time": "2023-06-18T22:47:32.959694900Z"
    }
   }
  },
  {
   "cell_type": "code",
   "execution_count": 406,
   "outputs": [],
   "source": [
    "with tabEngine.begin() as conn:\n",
    "    insert_q = update(entry_table)\\\n",
    "        .where(entry_table.c.id == bindparam('entry_id'))\\\n",
    "        .values({'short_name': bindparam('short_name'), 'school_name': bindparam('school_name'), 'school_code': bindparam('school_code')})\n",
    "    conn.execute(insert_q, entries.rename(columns={'id': 'entry_id'}).to_dict('records')[1:])"
   ],
   "metadata": {
    "collapsed": false,
    "ExecuteTime": {
     "end_time": "2023-06-18T22:58:43.804130700Z",
     "start_time": "2023-06-18T22:57:59.533979800Z"
    }
   }
  },
  {
   "cell_type": "markdown",
   "source": [
    "# Analyze"
   ],
   "metadata": {
    "collapsed": false
   }
  },
  {
   "cell_type": "code",
   "execution_count": 354,
   "outputs": [],
   "source": [
    "def plot_gte(nums, label: str):\n",
    "    counts = pd.Series(nums).value_counts()\n",
    "    sums = np.cumsum(counts.sort_index()[::-1])[::-1]\n",
    "    plt.plot(sums, label=label)\n",
    "    plt.scatter(sums.index, sums)\n",
    "    return sums"
   ],
   "metadata": {
    "collapsed": false,
    "ExecuteTime": {
     "end_time": "2023-06-18T21:21:46.109212700Z",
     "start_time": "2023-06-18T21:21:46.075230700Z"
    }
   }
  },
  {
   "cell_type": "code",
   "execution_count": 249,
   "outputs": [
    {
     "data": {
      "text/plain": "              id                name short_name                code  \\\n114484    826305         Drake Olson         DO      81 Drake Olson   \n782342   2532540    Leipzig & Kiefer         KL  Glenbrook South KL   \n574915   2054801     Tansey & Speece         ST      St. Ambrose TS   \n1507785  3927593  Chen & Sreekanthan         CS   Joaquin Miller CS   \n386684   1581374     Biraj Choudhury         BC                1069   \n...          ...                 ...        ...                 ...   \n145621    934643          Rachel Kho         RK       RV Rachel Kho   \n417594   1662708       Isaac Ramnani         IR    KJ Isaac Ramnani   \n54137     598103     Eagen & Simmons         ES          Liberty ES   \n1633369  4174272         Tian & Tang         TT           Potoma TT   \n1140495  3309003    Isabelle Jimenez         IJ              DD 129   \n\n             school_name      team  \n114484              None       NaN  \n782342   Glenbrook South  114959.0  \n574915       St. Ambrose   94336.0  \n1507785   Joaquin Miller  188442.0  \n386684              None       NaN  \n...                  ...       ...  \n145621              None       NaN  \n417594              None       NaN  \n54137            Liberty   10106.0  \n1633369           Potoma  112126.0  \n1140495             None       NaN  \n\n[100 rows x 6 columns]",
      "text/html": "<div>\n<style scoped>\n    .dataframe tbody tr th:only-of-type {\n        vertical-align: middle;\n    }\n\n    .dataframe tbody tr th {\n        vertical-align: top;\n    }\n\n    .dataframe thead th {\n        text-align: right;\n    }\n</style>\n<table border=\"1\" class=\"dataframe\">\n  <thead>\n    <tr style=\"text-align: right;\">\n      <th></th>\n      <th>id</th>\n      <th>name</th>\n      <th>short_name</th>\n      <th>code</th>\n      <th>school_name</th>\n      <th>team</th>\n    </tr>\n  </thead>\n  <tbody>\n    <tr>\n      <th>114484</th>\n      <td>826305</td>\n      <td>Drake Olson</td>\n      <td>DO</td>\n      <td>81 Drake Olson</td>\n      <td>None</td>\n      <td>NaN</td>\n    </tr>\n    <tr>\n      <th>782342</th>\n      <td>2532540</td>\n      <td>Leipzig &amp; Kiefer</td>\n      <td>KL</td>\n      <td>Glenbrook South KL</td>\n      <td>Glenbrook South</td>\n      <td>114959.0</td>\n    </tr>\n    <tr>\n      <th>574915</th>\n      <td>2054801</td>\n      <td>Tansey &amp; Speece</td>\n      <td>ST</td>\n      <td>St. Ambrose TS</td>\n      <td>St. Ambrose</td>\n      <td>94336.0</td>\n    </tr>\n    <tr>\n      <th>1507785</th>\n      <td>3927593</td>\n      <td>Chen &amp; Sreekanthan</td>\n      <td>CS</td>\n      <td>Joaquin Miller CS</td>\n      <td>Joaquin Miller</td>\n      <td>188442.0</td>\n    </tr>\n    <tr>\n      <th>386684</th>\n      <td>1581374</td>\n      <td>Biraj Choudhury</td>\n      <td>BC</td>\n      <td>1069</td>\n      <td>None</td>\n      <td>NaN</td>\n    </tr>\n    <tr>\n      <th>...</th>\n      <td>...</td>\n      <td>...</td>\n      <td>...</td>\n      <td>...</td>\n      <td>...</td>\n      <td>...</td>\n    </tr>\n    <tr>\n      <th>145621</th>\n      <td>934643</td>\n      <td>Rachel Kho</td>\n      <td>RK</td>\n      <td>RV Rachel Kho</td>\n      <td>None</td>\n      <td>NaN</td>\n    </tr>\n    <tr>\n      <th>417594</th>\n      <td>1662708</td>\n      <td>Isaac Ramnani</td>\n      <td>IR</td>\n      <td>KJ Isaac Ramnani</td>\n      <td>None</td>\n      <td>NaN</td>\n    </tr>\n    <tr>\n      <th>54137</th>\n      <td>598103</td>\n      <td>Eagen &amp; Simmons</td>\n      <td>ES</td>\n      <td>Liberty ES</td>\n      <td>Liberty</td>\n      <td>10106.0</td>\n    </tr>\n    <tr>\n      <th>1633369</th>\n      <td>4174272</td>\n      <td>Tian &amp; Tang</td>\n      <td>TT</td>\n      <td>Potoma TT</td>\n      <td>Potoma</td>\n      <td>112126.0</td>\n    </tr>\n    <tr>\n      <th>1140495</th>\n      <td>3309003</td>\n      <td>Isabelle Jimenez</td>\n      <td>IJ</td>\n      <td>DD 129</td>\n      <td>None</td>\n      <td>NaN</td>\n    </tr>\n  </tbody>\n</table>\n<p>100 rows × 6 columns</p>\n</div>"
     },
     "execution_count": 249,
     "metadata": {},
     "output_type": "execute_result"
    }
   ],
   "source": [
    "entries.sample(100)"
   ],
   "metadata": {
    "collapsed": false,
    "ExecuteTime": {
     "end_time": "2023-06-18T17:48:00.335323100Z",
     "start_time": "2023-06-18T17:48:00.235772500Z"
    }
   }
  },
  {
   "cell_type": "code",
   "execution_count": 96,
   "outputs": [],
   "source": [
    "with tabEngine.begin() as conn:\n",
    "    old_entries = pd.read_sql(text(\"\"\"\n",
    "        select id, name, short_code, code, school_name, team from entry\n",
    "    \"\"\"), con=conn)"
   ],
   "metadata": {
    "collapsed": false,
    "ExecuteTime": {
     "end_time": "2023-06-18T14:04:52.341431600Z",
     "start_time": "2023-06-18T14:04:44.779398200Z"
    }
   }
  },
  {
   "cell_type": "code",
   "execution_count": 356,
   "outputs": [],
   "source": [
    "def plotSchoolCounts(df: pd.DataFrame, col='school_name'):\n",
    "    school_counts = df.groupby('team')[col].nunique()\n",
    "    print(school_counts[school_counts > 0].mean())\n",
    "    print(plot_gte(school_counts, col))"
   ],
   "metadata": {
    "collapsed": false,
    "ExecuteTime": {
     "end_time": "2023-06-18T21:22:00.969286400Z",
     "start_time": "2023-06-18T21:22:00.952292200Z"
    }
   }
  },
  {
   "cell_type": "code",
   "execution_count": 360,
   "outputs": [
    {
     "name": "stdout",
     "output_type": "stream",
     "text": [
      "school_name\n",
      "1.1205900443741488\n",
      "0    237523\n",
      "1    182088\n",
      "2     18628\n",
      "3      2502\n",
      "4       598\n",
      "5       170\n",
      "6        48\n",
      "7        11\n",
      "8         1\n",
      "Name: school_name, dtype: int64\n",
      "short_school_name\n",
      "1.114488598919204\n",
      "0    237523\n",
      "1    182088\n",
      "2     17860\n",
      "3      2283\n",
      "4       523\n",
      "5       139\n",
      "6        36\n",
      "7         6\n",
      "Name: short_school_name, dtype: int64\n",
      "chapter_code\n",
      "1.051046746628004\n",
      "0    237523\n",
      "1    182088\n",
      "2      8039\n",
      "3      1042\n",
      "4       168\n",
      "5        36\n",
      "6         9\n",
      "7         1\n",
      "Name: chapter_code, dtype: int64\n",
      "short_school_name_code\n",
      "1.0491136153947542\n",
      "0    237523\n",
      "1    182088\n",
      "2      7709\n",
      "3      1018\n",
      "4       177\n",
      "5        33\n",
      "6         6\n",
      "Name: short_school_name_code, dtype: int64\n"
     ]
    },
    {
     "data": {
      "text/plain": "<matplotlib.legend.Legend at 0x7fdef37850f0>"
     },
     "execution_count": 360,
     "metadata": {},
     "output_type": "execute_result"
    },
    {
     "data": {
      "text/plain": "<Figure size 640x480 with 1 Axes>",
      "image/png": "[encoded data removed]"
     },
     "metadata": {},
     "output_type": "display_data"
    }
   ],
   "source": [
    "for c in ['school_name', 'short_school_name', 'chapter_code', 'short_school_name_code']:\n",
    "    print(c)\n",
    "    plotSchoolCounts(entries, c)\n",
    "plt.legend()"
   ],
   "metadata": {
    "collapsed": false,
    "ExecuteTime": {
     "end_time": "2023-06-18T21:22:50.490662200Z",
     "start_time": "2023-06-18T21:22:48.295500200Z"
    }
   }
  },
  {
   "cell_type": "code",
   "execution_count": 362,
   "outputs": [],
   "source": [
    "team_school_counts = entries.groupby('team').chapter_code.nunique()"
   ],
   "metadata": {
    "collapsed": false,
    "ExecuteTime": {
     "end_time": "2023-06-18T22:33:54.721864400Z",
     "start_time": "2023-06-18T22:33:54.102801200Z"
    }
   }
  },
  {
   "cell_type": "code",
   "execution_count": 369,
   "outputs": [],
   "source": [
    "multi = team_school_counts[team_school_counts >= 2].index"
   ],
   "metadata": {
    "collapsed": false,
    "ExecuteTime": {
     "end_time": "2023-06-18T22:35:50.326053900Z",
     "start_time": "2023-06-18T22:35:50.311056100Z"
    }
   }
  },
  {
   "cell_type": "code",
   "execution_count": 376,
   "outputs": [
    {
     "data": {
      "text/plain": "                                                 code  \\\n34794                               Hunter College DL   \n32034                                       Hunter DL   \n31001                               Hunter College RH   \n32032                                       Hunter RH   \n31003                               Hunter College BL   \n...                                               ...   \n1959986                                      NHCS 300   \n1915647                               Barack Obama CT   \n1956963  Barack Obama Male Leadership Academy (HS) CT   \n1945298                                       CdA 217   \n1963150                                     Apost 217   \n\n                                       school_name chapter_code      team  \n34794                               Hunter College       HunCol     164.0  \n32034                                       Hunter       Hunter     164.0  \n31001                               Hunter College       HunCol     170.0  \n32032                                       Hunter       Hunter     170.0  \n31003                               Hunter College       HunCol     189.0  \n...                                            ...          ...       ...  \n1959986                                       NHCS         NHCS  232941.0  \n1915647                               Barack Obama       BarOba  234377.0  \n1956963  Barack Obama Male Leadership Academy (HS)       BOMLAH  234377.0  \n1945298                                        CdA          CdA  236073.0  \n1963150                                      Apost        Apost  236073.0  \n\n[19208 rows x 4 columns]",
      "text/html": "<div>\n<style scoped>\n    .dataframe tbody tr th:only-of-type {\n        vertical-align: middle;\n    }\n\n    .dataframe tbody tr th {\n        vertical-align: top;\n    }\n\n    .dataframe thead th {\n        text-align: right;\n    }\n</style>\n<table border=\"1\" class=\"dataframe\">\n  <thead>\n    <tr style=\"text-align: right;\">\n      <th></th>\n      <th>code</th>\n      <th>school_name</th>\n      <th>chapter_code</th>\n      <th>team</th>\n    </tr>\n  </thead>\n  <tbody>\n    <tr>\n      <th>34794</th>\n      <td>Hunter College DL</td>\n      <td>Hunter College</td>\n      <td>HunCol</td>\n      <td>164.0</td>\n    </tr>\n    <tr>\n      <th>32034</th>\n      <td>Hunter DL</td>\n      <td>Hunter</td>\n      <td>Hunter</td>\n      <td>164.0</td>\n    </tr>\n    <tr>\n      <th>31001</th>\n      <td>Hunter College RH</td>\n      <td>Hunter College</td>\n      <td>HunCol</td>\n      <td>170.0</td>\n    </tr>\n    <tr>\n      <th>32032</th>\n      <td>Hunter RH</td>\n      <td>Hunter</td>\n      <td>Hunter</td>\n      <td>170.0</td>\n    </tr>\n    <tr>\n      <th>31003</th>\n      <td>Hunter College BL</td>\n      <td>Hunter College</td>\n      <td>HunCol</td>\n      <td>189.0</td>\n    </tr>\n    <tr>\n      <th>...</th>\n      <td>...</td>\n      <td>...</td>\n      <td>...</td>\n      <td>...</td>\n    </tr>\n    <tr>\n      <th>1959986</th>\n      <td>NHCS 300</td>\n      <td>NHCS</td>\n      <td>NHCS</td>\n      <td>232941.0</td>\n    </tr>\n    <tr>\n      <th>1915647</th>\n      <td>Barack Obama CT</td>\n      <td>Barack Obama</td>\n      <td>BarOba</td>\n      <td>234377.0</td>\n    </tr>\n    <tr>\n      <th>1956963</th>\n      <td>Barack Obama Male Leadership Academy (HS) CT</td>\n      <td>Barack Obama Male Leadership Academy (HS)</td>\n      <td>BOMLAH</td>\n      <td>234377.0</td>\n    </tr>\n    <tr>\n      <th>1945298</th>\n      <td>CdA 217</td>\n      <td>CdA</td>\n      <td>CdA</td>\n      <td>236073.0</td>\n    </tr>\n    <tr>\n      <th>1963150</th>\n      <td>Apost 217</td>\n      <td>Apost</td>\n      <td>Apost</td>\n      <td>236073.0</td>\n    </tr>\n  </tbody>\n</table>\n<p>19208 rows × 4 columns</p>\n</div>"
     },
     "execution_count": 376,
     "metadata": {},
     "output_type": "execute_result"
    }
   ],
   "source": [
    "multi_entries = entries[entries.team.isin(multi)]\n",
    "multi_entries = multi_entries[multi_entries.school_name.notna()].sort_values('team')\n",
    "multi_entries[['code', 'school_name', 'chapter_code', 'team']].drop_duplicates(subset=['team', 'school_name'])"
   ],
   "metadata": {
    "collapsed": false,
    "ExecuteTime": {
     "end_time": "2023-06-18T22:39:26.027007100Z",
     "start_time": "2023-06-18T22:39:25.880963Z"
    }
   }
  },
  {
   "cell_type": "code",
   "execution_count": 311,
   "outputs": [
    {
     "data": {
      "text/plain": "school_name\nPotomac                                    1157\nPotoma                                      863\nHarker                                      746\nLexington                                   728\nBronx Science                               700\n                                           ... \nMahtomedi Debate Team                         0\nChole                                         0\nChongqing Experimental Foreign Language       0\nRex Hot Chili Peppers                         0\nLab 3                                         0\nName: team, Length: 21993, dtype: int64"
     },
     "execution_count": 311,
     "metadata": {},
     "output_type": "execute_result"
    }
   ],
   "source": [
    "school_team_counts = entries.groupby('school_name').team.nunique().sort_values(ascending=False)\n",
    "school_team_counts"
   ],
   "metadata": {
    "collapsed": false,
    "ExecuteTime": {
     "end_time": "2023-06-18T20:44:11.060624600Z",
     "start_time": "2023-06-18T20:44:10.082202500Z"
    }
   }
  },
  {
   "cell_type": "code",
   "execution_count": 315,
   "outputs": [
    {
     "data": {
      "text/plain": "92507"
     },
     "execution_count": 315,
     "metadata": {},
     "output_type": "execute_result"
    }
   ],
   "source": [
    "school_team_counts.loc[school_team_counts.index.str.contains(\" \")].sum()"
   ],
   "metadata": {
    "collapsed": false,
    "ExecuteTime": {
     "end_time": "2023-06-18T20:49:19.033911200Z",
     "start_time": "2023-06-18T20:49:19.009130200Z"
    }
   }
  },
  {
   "cell_type": "code",
   "execution_count": 247,
   "outputs": [
    {
     "data": {
      "text/plain": "           id                            name short_name  \\\n15589  345396  Kansas State - Klucas and Mays         KM   \n16322  347643                   Klucas & Mays         KM   \n17197  355830                   Mays & Klucas         KM   \n21451  398238  Kansas State - Klucas and Mays         KM   \n21452  398239  Kansas State - Klucas and Mays         KM   \n22464  410323  Kansas State - Klucas and Mays         KM   \n22478  410677  Kansas State - Klucas and Mays         KM   \n23164  424036                   Klucas & Mays         KM   \n25171  436230  Kansas State - Klucas and Mays         KM   \n25205  436534                   Klucas & Mays         KM   \n28884  466163  Kansas State - Klucas and Mays         KM   \n29590  468456                   Klucas & Mays         KM   \n31065  475009                   Mays & Klucas         KM   \n35046  514232  Kansas State - Klucas and Mays         KM   \n36682  523909  Kansas State - Klucas and Mays         KM   \n39193  538267                   Klucas & Mays         KM   \n43359  560332                   Klucas & Mays         KM   \n43364  560337  Kansas State - Klucas and Mays         KM   \n45396  568214  Kansas State - Klucas and Mays         KM   \n\n                             code   school_name   team  \n15589                      KSU KM           KSU  589.0  \n16322                   KState KM        KState  589.0  \n17197                   KState KM        KState  589.0  \n21451                   KState KM        KState  589.0  \n21452                      KSU KM           KSU  589.0  \n22464                   KState KM        KState  589.0  \n22478                   KState KM        KState  589.0  \n23164                    KanSta K          None  589.0  \n25171                   KState KM        KState  589.0  \n25205                   KanSta KM        KanSta  589.0  \n28884                  K-State KM       K-State  589.0  \n29590             Kansas State KM  Kansas State  589.0  \n31065             Kansas State MK  Kansas State  589.0  \n35046                  K-State KM       K-State  589.0  \n36682                      KSU KM           KSU  589.0  \n39193  Kansas State Klucas & Mays  Kansas State  589.0  \n43359             Kansas State KM  Kansas State  589.0  \n43364                  K State KM       K State  589.0  \n45396                   Kan St KM        Kan St  589.0  ",
      "text/html": "<div>\n<style scoped>\n    .dataframe tbody tr th:only-of-type {\n        vertical-align: middle;\n    }\n\n    .dataframe tbody tr th {\n        vertical-align: top;\n    }\n\n    .dataframe thead th {\n        text-align: right;\n    }\n</style>\n<table border=\"1\" class=\"dataframe\">\n  <thead>\n    <tr style=\"text-align: right;\">\n      <th></th>\n      <th>id</th>\n      <th>name</th>\n      <th>short_name</th>\n      <th>code</th>\n      <th>school_name</th>\n      <th>team</th>\n    </tr>\n  </thead>\n  <tbody>\n    <tr>\n      <th>15589</th>\n      <td>345396</td>\n      <td>Kansas State - Klucas and Mays</td>\n      <td>KM</td>\n      <td>KSU KM</td>\n      <td>KSU</td>\n      <td>589.0</td>\n    </tr>\n    <tr>\n      <th>16322</th>\n      <td>347643</td>\n      <td>Klucas &amp; Mays</td>\n      <td>KM</td>\n      <td>KState KM</td>\n      <td>KState</td>\n      <td>589.0</td>\n    </tr>\n    <tr>\n      <th>17197</th>\n      <td>355830</td>\n      <td>Mays &amp; Klucas</td>\n      <td>KM</td>\n      <td>KState KM</td>\n      <td>KState</td>\n      <td>589.0</td>\n    </tr>\n    <tr>\n      <th>21451</th>\n      <td>398238</td>\n      <td>Kansas State - Klucas and Mays</td>\n      <td>KM</td>\n      <td>KState KM</td>\n      <td>KState</td>\n      <td>589.0</td>\n    </tr>\n    <tr>\n      <th>21452</th>\n      <td>398239</td>\n      <td>Kansas State - Klucas and Mays</td>\n      <td>KM</td>\n      <td>KSU KM</td>\n      <td>KSU</td>\n      <td>589.0</td>\n    </tr>\n    <tr>\n      <th>22464</th>\n      <td>410323</td>\n      <td>Kansas State - Klucas and Mays</td>\n      <td>KM</td>\n      <td>KState KM</td>\n      <td>KState</td>\n      <td>589.0</td>\n    </tr>\n    <tr>\n      <th>22478</th>\n      <td>410677</td>\n      <td>Kansas State - Klucas and Mays</td>\n      <td>KM</td>\n      <td>KState KM</td>\n      <td>KState</td>\n      <td>589.0</td>\n    </tr>\n    <tr>\n      <th>23164</th>\n      <td>424036</td>\n      <td>Klucas &amp; Mays</td>\n      <td>KM</td>\n      <td>KanSta K</td>\n      <td>None</td>\n      <td>589.0</td>\n    </tr>\n    <tr>\n      <th>25171</th>\n      <td>436230</td>\n      <td>Kansas State - Klucas and Mays</td>\n      <td>KM</td>\n      <td>KState KM</td>\n      <td>KState</td>\n      <td>589.0</td>\n    </tr>\n    <tr>\n      <th>25205</th>\n      <td>436534</td>\n      <td>Klucas &amp; Mays</td>\n      <td>KM</td>\n      <td>KanSta KM</td>\n      <td>KanSta</td>\n      <td>589.0</td>\n    </tr>\n    <tr>\n      <th>28884</th>\n      <td>466163</td>\n      <td>Kansas State - Klucas and Mays</td>\n      <td>KM</td>\n      <td>K-State KM</td>\n      <td>K-State</td>\n      <td>589.0</td>\n    </tr>\n    <tr>\n      <th>29590</th>\n      <td>468456</td>\n      <td>Klucas &amp; Mays</td>\n      <td>KM</td>\n      <td>Kansas State KM</td>\n      <td>Kansas State</td>\n      <td>589.0</td>\n    </tr>\n    <tr>\n      <th>31065</th>\n      <td>475009</td>\n      <td>Mays &amp; Klucas</td>\n      <td>KM</td>\n      <td>Kansas State MK</td>\n      <td>Kansas State</td>\n      <td>589.0</td>\n    </tr>\n    <tr>\n      <th>35046</th>\n      <td>514232</td>\n      <td>Kansas State - Klucas and Mays</td>\n      <td>KM</td>\n      <td>K-State KM</td>\n      <td>K-State</td>\n      <td>589.0</td>\n    </tr>\n    <tr>\n      <th>36682</th>\n      <td>523909</td>\n      <td>Kansas State - Klucas and Mays</td>\n      <td>KM</td>\n      <td>KSU KM</td>\n      <td>KSU</td>\n      <td>589.0</td>\n    </tr>\n    <tr>\n      <th>39193</th>\n      <td>538267</td>\n      <td>Klucas &amp; Mays</td>\n      <td>KM</td>\n      <td>Kansas State Klucas &amp; Mays</td>\n      <td>Kansas State</td>\n      <td>589.0</td>\n    </tr>\n    <tr>\n      <th>43359</th>\n      <td>560332</td>\n      <td>Klucas &amp; Mays</td>\n      <td>KM</td>\n      <td>Kansas State KM</td>\n      <td>Kansas State</td>\n      <td>589.0</td>\n    </tr>\n    <tr>\n      <th>43364</th>\n      <td>560337</td>\n      <td>Kansas State - Klucas and Mays</td>\n      <td>KM</td>\n      <td>K State KM</td>\n      <td>K State</td>\n      <td>589.0</td>\n    </tr>\n    <tr>\n      <th>45396</th>\n      <td>568214</td>\n      <td>Kansas State - Klucas and Mays</td>\n      <td>KM</td>\n      <td>Kan St KM</td>\n      <td>Kan St</td>\n      <td>589.0</td>\n    </tr>\n  </tbody>\n</table>\n</div>"
     },
     "execution_count": 247,
     "metadata": {},
     "output_type": "execute_result"
    }
   ],
   "source": [
    "entries[entries.team == 589]"
   ],
   "metadata": {
    "collapsed": false,
    "ExecuteTime": {
     "end_time": "2023-06-18T17:47:11.962963Z",
     "start_time": "2023-06-18T17:47:11.062359600Z"
    }
   }
  },
  {
   "cell_type": "code",
   "execution_count": 169,
   "outputs": [],
   "source": [
    "initial_code = entries[entries.code.str.match(r'.* [A-Z]{2}$').fillna(False)]\n",
    "initial_code = initial_code[initial_code.short_name.notna()]"
   ],
   "metadata": {
    "collapsed": false,
    "ExecuteTime": {
     "end_time": "2023-06-18T15:15:19.972345200Z",
     "start_time": "2023-06-18T15:15:18.285669900Z"
    }
   }
  },
  {
   "cell_type": "code",
   "execution_count": 174,
   "outputs": [
    {
     "data": {
      "text/plain": "              id               name short_name                 code  \\\n14147     340655       Minnesota CE         MC              Minn CE   \n14148     340656       Minnesota FS         MF              Minn FS   \n14149     340657      Georgetown AM         GA             GTown AM   \n14150     340658      Georgetown DE         GD             GTown DE   \n14151     340659      Georgetown CV         GC             GTown CV   \n...          ...                ...        ...                  ...   \n1967300  4823934      Josie Cochran         JC                29 JC   \n1967301  4824723  Willson & Houston         HW  Wyoming/Oklahoma WH   \n1967397  4828453    Katherine White         KW                27 KW   \n1967400  4828479        Ian Metzger         IM                23 IM   \n1967401  4828480        Ian Metzger         IM                23 IM   \n\n              school_name      team  \n14147                Minn       NaN  \n14148                Minn       NaN  \n14149               GTown       NaN  \n14150               GTown       NaN  \n14151               GTown       NaN  \n...                   ...       ...  \n1967300              None  237415.0  \n1967301  Wyoming/Oklahoma  237416.0  \n1967397              None  237512.0  \n1967400              None  237515.0  \n1967401              None  237516.0  \n\n[533612 rows x 6 columns]",
      "text/html": "<div>\n<style scoped>\n    .dataframe tbody tr th:only-of-type {\n        vertical-align: middle;\n    }\n\n    .dataframe tbody tr th {\n        vertical-align: top;\n    }\n\n    .dataframe thead th {\n        text-align: right;\n    }\n</style>\n<table border=\"1\" class=\"dataframe\">\n  <thead>\n    <tr style=\"text-align: right;\">\n      <th></th>\n      <th>id</th>\n      <th>name</th>\n      <th>short_name</th>\n      <th>code</th>\n      <th>school_name</th>\n      <th>team</th>\n    </tr>\n  </thead>\n  <tbody>\n    <tr>\n      <th>14147</th>\n      <td>340655</td>\n      <td>Minnesota CE</td>\n      <td>MC</td>\n      <td>Minn CE</td>\n      <td>Minn</td>\n      <td>NaN</td>\n    </tr>\n    <tr>\n      <th>14148</th>\n      <td>340656</td>\n      <td>Minnesota FS</td>\n      <td>MF</td>\n      <td>Minn FS</td>\n      <td>Minn</td>\n      <td>NaN</td>\n    </tr>\n    <tr>\n      <th>14149</th>\n      <td>340657</td>\n      <td>Georgetown AM</td>\n      <td>GA</td>\n      <td>GTown AM</td>\n      <td>GTown</td>\n      <td>NaN</td>\n    </tr>\n    <tr>\n      <th>14150</th>\n      <td>340658</td>\n      <td>Georgetown DE</td>\n      <td>GD</td>\n      <td>GTown DE</td>\n      <td>GTown</td>\n      <td>NaN</td>\n    </tr>\n    <tr>\n      <th>14151</th>\n      <td>340659</td>\n      <td>Georgetown CV</td>\n      <td>GC</td>\n      <td>GTown CV</td>\n      <td>GTown</td>\n      <td>NaN</td>\n    </tr>\n    <tr>\n      <th>...</th>\n      <td>...</td>\n      <td>...</td>\n      <td>...</td>\n      <td>...</td>\n      <td>...</td>\n      <td>...</td>\n    </tr>\n    <tr>\n      <th>1967300</th>\n      <td>4823934</td>\n      <td>Josie Cochran</td>\n      <td>JC</td>\n      <td>29 JC</td>\n      <td>None</td>\n      <td>237415.0</td>\n    </tr>\n    <tr>\n      <th>1967301</th>\n      <td>4824723</td>\n      <td>Willson &amp; Houston</td>\n      <td>HW</td>\n      <td>Wyoming/Oklahoma WH</td>\n      <td>Wyoming/Oklahoma</td>\n      <td>237416.0</td>\n    </tr>\n    <tr>\n      <th>1967397</th>\n      <td>4828453</td>\n      <td>Katherine White</td>\n      <td>KW</td>\n      <td>27 KW</td>\n      <td>None</td>\n      <td>237512.0</td>\n    </tr>\n    <tr>\n      <th>1967400</th>\n      <td>4828479</td>\n      <td>Ian Metzger</td>\n      <td>IM</td>\n      <td>23 IM</td>\n      <td>None</td>\n      <td>237515.0</td>\n    </tr>\n    <tr>\n      <th>1967401</th>\n      <td>4828480</td>\n      <td>Ian Metzger</td>\n      <td>IM</td>\n      <td>23 IM</td>\n      <td>None</td>\n      <td>237516.0</td>\n    </tr>\n  </tbody>\n</table>\n<p>533612 rows × 6 columns</p>\n</div>"
     },
     "execution_count": 174,
     "metadata": {},
     "output_type": "execute_result"
    }
   ],
   "source": [
    "initial_code"
   ],
   "metadata": {
    "collapsed": false,
    "ExecuteTime": {
     "end_time": "2023-06-18T15:18:05.976194Z",
     "start_time": "2023-06-18T15:18:05.837449700Z"
    }
   }
  },
  {
   "cell_type": "code",
   "execution_count": 175,
   "outputs": [],
   "source": [
    "matches = initial_code.apply(lambda entry: entry['code'].endswith(entry['short_name']), axis=1)"
   ],
   "metadata": {
    "collapsed": false,
    "ExecuteTime": {
     "end_time": "2023-06-18T15:18:42.204060300Z",
     "start_time": "2023-06-18T15:18:38.510134300Z"
    }
   }
  },
  {
   "cell_type": "code",
   "execution_count": 97,
   "outputs": [],
   "source": [
    "old_entries.to_feather('./data/old_entries.feather')"
   ],
   "metadata": {
    "collapsed": false,
    "ExecuteTime": {
     "end_time": "2023-06-18T14:08:26.360378600Z",
     "start_time": "2023-06-18T14:08:25.342418Z"
    }
   }
  }
 ],
 "metadata": {
  "kernelspec": {
   "display_name": "Python 3",
   "language": "python",
   "name": "python3"
  },
  "language_info": {
   "codemirror_mode": {
    "name": "ipython",
    "version": 3
   },
   "file_extension": ".py",
   "mimetype": "text/x-python",
   "name": "python",
   "nbconvert_exporter": "python",
   "pygments_lexer": "ipython3",
   "version": "3.10.10"
  }
 },
 "nbformat": 4,
 "nbformat_minor": 0
}
